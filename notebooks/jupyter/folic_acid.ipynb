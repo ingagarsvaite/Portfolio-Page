{
 "cells": [
  {
   "cell_type": "code",
   "execution_count": 17,
   "id": "9d18adca-446c-476a-a9f2-9ca9910d12d8",
   "metadata": {},
   "outputs": [],
   "source": [
    "# Okay, here we will dive deeper into zinc. "
   ]
  },
  {
   "cell_type": "code",
   "execution_count": 12,
   "id": "5b32f98b-20a1-41b7-8955-c21385d2d48b",
   "metadata": {},
   "outputs": [],
   "source": [
    "import pandas as pd\n",
    "import numpy as np\n",
    "import matplotlib.pyplot as plt\n",
    "import seaborn as sns\n",
    "from sqlalchemy import create_engine\n",
    "import os"
   ]
  },
  {
   "cell_type": "code",
   "execution_count": 13,
   "id": "8c5927ad-5c8c-45d8-b80c-d014e62f70c9",
   "metadata": {},
   "outputs": [],
   "source": [
    "\n",
    "database_path = 'sqlite:///C:/Users/Vartotojas/Desktop/programavimas/baigiamasis_darbas/db/db.sqlite3'\n",
    "\n",
    "engine = create_engine(database_path)\n",
    "\n",
    "with engine.connect() as conn:\n",
    "  query_vc = 'SELECT * FROM vegetables_cooked'\n",
    "  df_v_vc = pd.read_sql_query(query_vc, engine)\n",
    "\n",
    "  query_vr = 'SELECT * FROM vegetables_raw'\n",
    "  df_v_vr = pd.read_sql_query(query_vr, engine)\n",
    "\n",
    "  query_fd = 'SELECT * FROM fruits_dried'\n",
    "  df_v_fd = pd.read_sql_query(query_fd, engine)\n",
    "\n",
    "  query_fr = 'SELECT * FROM fruits_raw'\n",
    "  df_v_fr = pd.read_sql_query(query_fr, engine)\n"
   ]
  },
  {
   "cell_type": "code",
   "execution_count": 14,
   "id": "c98f42d8-514b-447a-b1d2-f3cd8f74e693",
   "metadata": {},
   "outputs": [
    {
     "data": {
      "text/plain": [
       "<Figure size 600x300 with 0 Axes>"
      ]
     },
     "metadata": {},
     "output_type": "display_data"
    },
    {
     "data": {
      "image/png": "[encoded data removed]",
      "text/plain": [
       "<Figure size 1000x600 with 1 Axes>"
      ]
     },
     "metadata": {},
     "output_type": "display_data"
    }
   ],
   "source": [
    "\n",
    "data = [df_v_vc['fa_in_mcg'], df_v_vr['fa_in_mcg'], df_v_fr['fa_in_mcg'], df_v_fd['fa_in_mcg']]\n",
    " \n",
    "fig = plt.figure(figsize =(6, 3))\n",
    " \n",
    "# Creating axes instance\n",
    "labels = ['Veg Cooked', 'Veg Raw', 'Fruit Raw', 'Fruit Dried']\n",
    "fig, ax = plt.subplots(figsize=(10, 6))\n",
    " \n",
    "# Creating plot\n",
    "bp = ax.boxplot(data, labels=labels)\n",
    " \n",
    "# show plot\n",
    "plt.show()"
   ]
  },
  {
   "cell_type": "code",
   "execution_count": 15,
   "id": "7b9e5b9a-a65f-4bc6-b311-7076993bbd3b",
   "metadata": {},
   "outputs": [
    {
     "name": "stdout",
     "output_type": "stream",
     "text": [
      "                                          long_desc  fa_in_mcg\n",
      "0                      Alfalfa seeds, sprouted, raw        0.0\n",
      "59                     Squash, summer, scallop, raw        0.0\n",
      "68                                     Turnips, raw        0.0\n",
      "67     Tomatoes, red, ripe, raw, year round average        0.0\n",
      "66                             Tomatoes, green, raw        0.0\n",
      "65                                        Taro, raw        0.0\n",
      "64                    Sweet potato, raw, unprepared        0.0\n",
      "63                   Squash, winter, spaghetti, raw        0.0\n",
      "62                     Squash, winter, hubbard, raw        0.0\n",
      "61                   Squash, winter, butternut, raw        0.0\n",
      "60     Squash, summer, zucchini, includes skin, raw        0.0\n",
      "58  Squash, summer, crookneck and straightneck, raw        0.0\n",
      "70                                  Watercress, raw        0.0\n",
      "57                                     Spinach, raw        0.0\n",
      "56                              Seaweed, laver, raw        0.0\n",
      "55                               Seaweed, kelp, raw        0.0\n",
      "54                          Seaweed, irishmoss, raw        0.0\n",
      "53                               Seaweed, agar, raw        0.0\n",
      "52                                   Rutabagas, raw        0.0\n",
      "51                          Radishes, oriental, raw        0.0\n",
      "50                                    Radishes, raw        0.0\n",
      "49                                     Pumpkin, raw        0.0\n",
      "69            Waterchestnuts, chinese, (matai), raw        0.0\n",
      "71                                         Yam, raw        0.0\n",
      "1                Artichokes, (globe or french), raw        0.0\n",
      "83                                  Tomatillos, raw        0.0\n",
      "92                           Broccoli, chinese, raw        0.0\n",
      "91                          Peppers, hungarian, raw        0.0\n",
      "90                           Peppers, jalapeno, raw        0.0\n",
      "89                            Peppers, serrano, raw        0.0\n",
      "                                          long_desc  fa_in_mcg\n",
      "0                      Alfalfa seeds, sprouted, raw        0.0\n",
      "59                     Squash, summer, scallop, raw        0.0\n",
      "68                                     Turnips, raw        0.0\n",
      "67     Tomatoes, red, ripe, raw, year round average        0.0\n",
      "66                             Tomatoes, green, raw        0.0\n",
      "65                                        Taro, raw        0.0\n",
      "64                    Sweet potato, raw, unprepared        0.0\n",
      "63                   Squash, winter, spaghetti, raw        0.0\n",
      "62                     Squash, winter, hubbard, raw        0.0\n",
      "61                   Squash, winter, butternut, raw        0.0\n",
      "60     Squash, summer, zucchini, includes skin, raw        0.0\n",
      "58  Squash, summer, crookneck and straightneck, raw        0.0\n",
      "70                                  Watercress, raw        0.0\n",
      "57                                     Spinach, raw        0.0\n",
      "56                              Seaweed, laver, raw        0.0\n",
      "55                               Seaweed, kelp, raw        0.0\n",
      "54                          Seaweed, irishmoss, raw        0.0\n",
      "53                               Seaweed, agar, raw        0.0\n",
      "52                                   Rutabagas, raw        0.0\n",
      "51                          Radishes, oriental, raw        0.0\n",
      "50                                    Radishes, raw        0.0\n",
      "49                                     Pumpkin, raw        0.0\n",
      "69            Waterchestnuts, chinese, (matai), raw        0.0\n",
      "71                                         Yam, raw        0.0\n",
      "1                Artichokes, (globe or french), raw        0.0\n",
      "83                                  Tomatillos, raw        0.0\n",
      "92                           Broccoli, chinese, raw        0.0\n",
      "91                          Peppers, hungarian, raw        0.0\n",
      "90                           Peppers, jalapeno, raw        0.0\n",
      "89                            Peppers, serrano, raw        0.0\n"
     ]
    }
   ],
   "source": [
    "top = df_v_vr[['long_desc', 'fa_in_mcg']].sort_values(by='fa_in_mcg',ascending=False)\n",
    "top_30_values = top.head(30)\n",
    "print(top_30_values)\n",
    "\n",
    "top = df_v_vr[['long_desc', 'fa_in_mcg']].sort_values(by=\"fa_in_mcg\",ascending=False)\n",
    "top_30_values = top.head(30)\n",
    "print(top_30_values)"
   ]
  },
  {
   "cell_type": "code",
   "execution_count": 11,
   "id": "0f5b70f9-51da-465a-9cad-0985531d6ef3",
   "metadata": {},
   "outputs": [
    {
     "name": "stdout",
     "output_type": "stream",
     "text": [
      "                                   long_desc  fa_in_mcg\n",
      "0                     Apples, raw, with skin        0.0\n",
      "33                   Melons, cantaloupe, raw        0.0\n",
      "35                     Melons, honeydew, raw        0.0\n",
      "36                           Mulberries, raw        0.0\n",
      "37                           Nectarines, raw        0.0\n",
      "38    Oranges, raw, all commercial varieties        0.0\n",
      "39                      Oranges, raw, navels        0.0\n",
      "40                     Oranges, raw, Florida        0.0\n",
      "41       Tangerines, (mandarin oranges), raw        0.0\n",
      "42                              Papayas, raw        0.0\n",
      "43  Passion-fruit, (granadilla), purple, raw        0.0\n",
      "44                      Peaches, yellow, raw        0.0\n",
      "45                                Pears, raw        0.0\n",
      "46                 Persimmons, japanese, raw        0.0\n",
      "47             Pineapple, raw, all varieties        0.0\n",
      "48                            Plantains, raw        0.0\n",
      "49                         Plantains, cooked        0.0\n",
      "50                                Plums, raw        0.0\n",
      "51                         Pomegranates, raw        0.0\n",
      "52                  Raisins, golden seedless        0.0\n",
      "53                         Raisins, seedless        0.0\n",
      "54                          Raspberries, raw        0.0\n",
      "55                              Rhubarb, raw        0.0\n",
      "56                              Soursop, raw        0.0\n",
      "57                         Strawberries, raw        0.0\n",
      "58                            Tamarinds, raw        0.0\n",
      "59                           Watermelon, raw        0.0\n",
      "60                               Feijoa, raw        0.0\n",
      "61                         Pears, asian, raw        0.0\n",
      "62                             Candied fruit        0.0\n",
      "                                   long_desc  fa_in_mcg\n",
      "0                     Apples, raw, with skin        0.0\n",
      "33                   Melons, cantaloupe, raw        0.0\n",
      "35                     Melons, honeydew, raw        0.0\n",
      "36                           Mulberries, raw        0.0\n",
      "37                           Nectarines, raw        0.0\n",
      "38    Oranges, raw, all commercial varieties        0.0\n",
      "39                      Oranges, raw, navels        0.0\n",
      "40                     Oranges, raw, Florida        0.0\n",
      "41       Tangerines, (mandarin oranges), raw        0.0\n",
      "42                              Papayas, raw        0.0\n",
      "43  Passion-fruit, (granadilla), purple, raw        0.0\n",
      "44                      Peaches, yellow, raw        0.0\n",
      "45                                Pears, raw        0.0\n",
      "46                 Persimmons, japanese, raw        0.0\n",
      "47             Pineapple, raw, all varieties        0.0\n",
      "48                            Plantains, raw        0.0\n",
      "49                         Plantains, cooked        0.0\n",
      "50                                Plums, raw        0.0\n",
      "51                         Pomegranates, raw        0.0\n",
      "52                  Raisins, golden seedless        0.0\n",
      "53                         Raisins, seedless        0.0\n",
      "54                          Raspberries, raw        0.0\n",
      "55                              Rhubarb, raw        0.0\n",
      "56                              Soursop, raw        0.0\n",
      "57                         Strawberries, raw        0.0\n",
      "58                            Tamarinds, raw        0.0\n",
      "59                           Watermelon, raw        0.0\n",
      "60                               Feijoa, raw        0.0\n",
      "61                         Pears, asian, raw        0.0\n",
      "62                             Candied fruit        0.0\n"
     ]
    }
   ],
   "source": [
    "top = df_v_fr[['long_desc', 'fa_in_mcg']].sort_values(by='fa_in_mcg',ascending=False)\n",
    "top_30_values = top.head(30)\n",
    "print(top_30_values)\n",
    "\n",
    "top = df_v_fr[['long_desc', 'fa_in_mcg']].sort_values(by=\"fa_in_mcg\",ascending=False)\n",
    "top_20_values = top.head(30)\n",
    "print(top_30_values)"
   ]
  },
  {
   "cell_type": "code",
   "execution_count": 6,
   "id": "65ce269a-b21b-4943-92cc-dc8ce31f73bf",
   "metadata": {},
   "outputs": [
    {
     "data": {
      "text/plain": [
       "<Figure size 600x300 with 0 Axes>"
      ]
     },
     "metadata": {},
     "output_type": "display_data"
    },
    {
     "data": {
      "image/png": "[encoded data removed]",
      "text/plain": [
       "<Figure size 1000x600 with 1 Axes>"
      ]
     },
     "metadata": {},
     "output_type": "display_data"
    }
   ],
   "source": [
    "# Let's see how zinc content distributes between 100kcal of products:\n",
    "\n",
    "data = [df_v_vr['fa_in_mcg'], df_v_fr['fa_in_mcg']]\n",
    " \n",
    "fig = plt.figure(figsize =(6, 3))\n",
    " \n",
    "# Creating axes instance\n",
    "labels = ['Veg Raw', 'Fruit Raw']\n",
    "fig, ax = plt.subplots(figsize=(10, 6))\n",
    " \n",
    "# Creating plot\n",
    "bp = ax.boxplot(data, labels=labels)\n",
    " \n",
    "# show plot\n",
    "plt.show()"
   ]
  },
  {
   "cell_type": "code",
   "execution_count": null,
   "id": "0c967216-5644-4de5-809e-d5601458885b",
   "metadata": {},
   "outputs": [],
   "source": []
  }
 ],
 "metadata": {
  "kernelspec": {
   "display_name": "Python 3 (ipykernel)",
   "language": "python",
   "name": "python3"
  },
  "language_info": {
   "codemirror_mode": {
    "name": "ipython",
    "version": 3
   },
   "file_extension": ".py",
   "mimetype": "text/x-python",
   "name": "python",
   "nbconvert_exporter": "python",
   "pygments_lexer": "ipython3",
   "version": "3.11.4"
  }
 },
 "nbformat": 4,
 "nbformat_minor": 5
}
