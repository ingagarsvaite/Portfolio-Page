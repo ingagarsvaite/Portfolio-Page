{
 "cells": [
  {
   "cell_type": "code",
   "execution_count": 17,
   "id": "9d18adca-446c-476a-a9f2-9ca9910d12d8",
   "metadata": {},
   "outputs": [],
   "source": [
    "# Okay, here we will dive deeper into p. "
   ]
  },
  {
   "cell_type": "code",
   "execution_count": 18,
   "id": "5b32f98b-20a1-41b7-8955-c21385d2d48b",
   "metadata": {},
   "outputs": [],
   "source": [
    "import pandas as pd\n",
    "import numpy as np\n",
    "import matplotlib.pyplot as plt\n",
    "import seaborn as sns\n",
    "from sqlalchemy import create_engine\n",
    "import os"
   ]
  },
  {
   "cell_type": "code",
   "execution_count": 19,
   "id": "8c5927ad-5c8c-45d8-b80c-d014e62f70c9",
   "metadata": {},
   "outputs": [],
   "source": [
    "\n",
    "database_path = 'sqlite:///C:/Users/Vartotojas/Desktop/programavimas/baigiamasis_darbas/db/db.sqlite3'\n",
    "\n",
    "engine = create_engine(database_path)\n",
    "\n",
    "with engine.connect() as conn:\n",
    "  query_vc = 'SELECT * FROM vegetables_cooked'\n",
    "  df_v_vc = pd.read_sql_query(query_vc, engine)\n",
    "\n",
    "  query_vr = 'SELECT * FROM vegetables_raw'\n",
    "  df_v_vr = pd.read_sql_query(query_vr, engine)\n",
    "\n",
    "  query_fd = 'SELECT * FROM fruits_dried'\n",
    "  df_v_fd = pd.read_sql_query(query_fd, engine)\n",
    "\n",
    "  query_fr = 'SELECT * FROM fruits_raw'\n",
    "  df_v_fr = pd.read_sql_query(query_fr, engine)\n"
   ]
  },
  {
   "cell_type": "code",
   "execution_count": 20,
   "id": "c98f42d8-514b-447a-b1d2-f3cd8f74e693",
   "metadata": {},
   "outputs": [
    {
     "data": {
      "text/plain": [
       "<Figure size 600x300 with 0 Axes>"
      ]
     },
     "metadata": {},
     "output_type": "display_data"
    },
    {
     "data": {
      "image/png": "[encoded data removed]",
      "text/plain": [
       "<Figure size 1000x600 with 1 Axes>"
      ]
     },
     "metadata": {},
     "output_type": "display_data"
    }
   ],
   "source": [
    "\n",
    "data = [df_v_vc['p_in_mg'], df_v_vr['p_in_mg'], df_v_fr['p_in_mg'], df_v_fd['p_in_mg']]\n",
    " \n",
    "fig = plt.figure(figsize =(6, 3))\n",
    " \n",
    "# Creating axes instance\n",
    "labels = ['Veg Cooked', 'Veg Raw', 'Fruit Raw', 'Fruit Dried']\n",
    "fig, ax = plt.subplots(figsize=(10, 6))\n",
    " \n",
    "# Creating plot\n",
    "bp = ax.boxplot(data, labels=labels)\n",
    " \n",
    "# show plot\n",
    "plt.show()"
   ]
  },
  {
   "cell_type": "code",
   "execution_count": 21,
   "id": "7b9e5b9a-a65f-4bc6-b311-7076993bbd3b",
   "metadata": {},
   "outputs": [
    {
     "name": "stdout",
     "output_type": "stream",
     "text": [
      "                                            long_desc  zn_mg_in_100kcal\n",
      "28                                        Endive, raw          4.647059\n",
      "3                                  Bamboo shoots, raw          4.074074\n",
      "0                        Alfalfa seeds, sprouted, raw          4.000000\n",
      "54                            Seaweed, irishmoss, raw          3.979592\n",
      "20                                Chayote, fruit, raw          3.894737\n",
      "6                                  Broccoli raab, raw          3.500000\n",
      "93                                Hearts of palm, raw          3.243478\n",
      "56                                Seaweed, laver, raw          3.000000\n",
      "55                                 Seaweed, kelp, raw          2.860465\n",
      "2                                      Asparagus, raw          2.700000\n",
      "82                                     Radicchio, raw          2.695652\n",
      "57                                       Spinach, raw          2.304348\n",
      "53                                 Seaweed, agar, raw          2.230769\n",
      "87                            Cauliflower, green, raw          2.064516\n",
      "19                                  Chard, swiss, raw          1.894737\n",
      "60       Squash, summer, zucchini, includes skin, raw          1.882353\n",
      "85                                       Arugula, raw          1.880000\n",
      "21                                        Chives, raw          1.866667\n",
      "73                 Squash, summer, all varieties, raw          1.812500\n",
      "40                                          Okra, raw          1.757576\n",
      "50                                      Radishes, raw          1.750000\n",
      "59                       Squash, summer, scallop, raw          1.611111\n",
      "86                                       Nopales, raw          1.562500\n",
      "35  Lettuce, butterhead (includes boston and bibb ...          1.538462\n",
      "58    Squash, summer, crookneck and straightneck, raw          1.526316\n",
      "12                   Cabbage, chinese (pak-choi), raw          1.461538\n",
      "13                    Cabbage, chinese (pe-tsai), raw          1.437500\n",
      "26                              Cucumber, peeled, raw          1.416667\n",
      "92                             Broccoli, chinese, raw          1.366667\n",
      "36                       Lettuce, cos or romaine, raw          1.352941\n",
      "                                            long_desc  zn_in_mg\n",
      "93                                Hearts of palm, raw      3.73\n",
      "54                            Seaweed, irishmoss, raw      1.95\n",
      "55                                 Seaweed, kelp, raw      1.23\n",
      "29                                        Garlic, raw      1.16\n",
      "3                                  Bamboo shoots, raw      1.10\n",
      "56                                Seaweed, laver, raw      1.05\n",
      "0                        Alfalfa seeds, sprouted, raw      0.92\n",
      "28                                        Endive, raw      0.79\n",
      "6                                  Broccoli raab, raw      0.77\n",
      "20                                Chayote, fruit, raw      0.74\n",
      "87                            Cauliflower, green, raw      0.64\n",
      "82                                     Radicchio, raw      0.62\n",
      "43                                      Parsnips, raw      0.59\n",
      "53                                 Seaweed, agar, raw      0.58\n",
      "40                                          Okra, raw      0.58\n",
      "32                                          Kale, raw      0.56\n",
      "21                                        Chives, raw      0.56\n",
      "2                                      Asparagus, raw      0.54\n",
      "57                                       Spinach, raw      0.53\n",
      "69              Waterchestnuts, chinese, (matai), raw      0.50\n",
      "1                  Artichokes, (globe or french), raw      0.49\n",
      "85                                       Arugula, raw      0.47\n",
      "23                           Corn, sweet, yellow, raw      0.46\n",
      "81                            Corn, sweet, white, raw      0.45\n",
      "7                               Brussels sprouts, raw      0.42\n",
      "92                             Broccoli, chinese, raw      0.41\n",
      "5                                       Broccoli, raw      0.41\n",
      "78                                      Shallots, raw      0.40\n",
      "42  Onions, spring or scallions (includes tops and...      0.39\n",
      "76                               Seaweed, wakame, raw      0.38\n"
     ]
    }
   ],
   "source": [
    "top = df_v_vr[['long_desc', 'p_mg_in_100kcal']].sort_values(by='p_mg_in_100kcal',ascending=False)\n",
    "top_30_values = top.head(30)\n",
    "print(top_30_values)\n",
    "\n",
    "top = df_v_vr[['long_desc', 'p_in_mg']].sort_values(by=\"p_in_mg\",ascending=False)\n",
    "top_30_values = top.head(30)\n",
    "print(top_30_values)"
   ]
  }
 ],
 "metadata": {
  "kernelspec": {
   "display_name": "Python 3 (ipykernel)",
   "language": "python",
   "name": "python3"
  },
  "language_info": {
   "codemirror_mode": {
    "name": "ipython",
    "version": 3
   },
   "file_extension": ".py",
   "mimetype": "text/x-python",
   "name": "python",
   "nbconvert_exporter": "python",
   "pygments_lexer": "ipython3",
   "version": "3.11.4"
  }
 },
 "nbformat": 4,
 "nbformat_minor": 5
}
