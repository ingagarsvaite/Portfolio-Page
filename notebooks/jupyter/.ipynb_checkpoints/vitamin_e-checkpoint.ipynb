{
 "cells": [
  {
   "cell_type": "code",
   "execution_count": 17,
   "id": "9d18adca-446c-476a-a9f2-9ca9910d12d8",
   "metadata": {},
   "outputs": [],
   "source": [
    "# Okay, here we will dive deeper into zinc. "
   ]
  },
  {
   "cell_type": "code",
   "execution_count": 1,
   "id": "5b32f98b-20a1-41b7-8955-c21385d2d48b",
   "metadata": {},
   "outputs": [],
   "source": [
    "import pandas as pd\n",
    "import numpy as np\n",
    "import matplotlib.pyplot as plt\n",
    "import seaborn as sns\n",
    "from sqlalchemy import create_engine\n",
    "import os"
   ]
  },
  {
   "cell_type": "code",
   "execution_count": 2,
   "id": "8c5927ad-5c8c-45d8-b80c-d014e62f70c9",
   "metadata": {},
   "outputs": [],
   "source": [
    "\n",
    "database_path = 'sqlite:///C:/Users/Vartotojas/Desktop/programavimas/baigiamasis_darbas/db/db.sqlite3'\n",
    "\n",
    "engine = create_engine(database_path)\n",
    "\n",
    "with engine.connect() as conn:\n",
    "  query_vc = 'SELECT * FROM vegetables_cooked'\n",
    "  df_v_vc = pd.read_sql_query(query_vc, engine)\n",
    "\n",
    "  query_vr = 'SELECT * FROM vegetables_raw'\n",
    "  df_v_vr = pd.read_sql_query(query_vr, engine)\n",
    "\n",
    "  query_fd = 'SELECT * FROM fruits_dried'\n",
    "  df_v_fd = pd.read_sql_query(query_fd, engine)\n",
    "\n",
    "  query_fr = 'SELECT * FROM fruits_raw'\n",
    "  df_v_fr = pd.read_sql_query(query_fr, engine)\n"
   ]
  },
  {
   "cell_type": "code",
   "execution_count": 3,
   "id": "c98f42d8-514b-447a-b1d2-f3cd8f74e693",
   "metadata": {},
   "outputs": [
    {
     "data": {
      "text/plain": [
       "<Figure size 600x300 with 0 Axes>"
      ]
     },
     "metadata": {},
     "output_type": "display_data"
    },
    {
     "data": {
      "image/png": "[encoded data removed]",
      "text/plain": [
       "<Figure size 1000x600 with 1 Axes>"
      ]
     },
     "metadata": {},
     "output_type": "display_data"
    }
   ],
   "source": [
    "\n",
    "data = [df_v_vc['vitamin_c_in_mg'], df_v_vr['vitamin_c_in_mg'], df_v_fr['vitamin_c_in_mg'], df_v_fd['vitamin_c_in_mg']]\n",
    " \n",
    "fig = plt.figure(figsize =(6, 3))\n",
    " \n",
    "# Creating axes instance\n",
    "labels = ['Veg Cooked', 'Veg Raw', 'Fruit Raw', 'Fruit Dried']\n",
    "fig, ax = plt.subplots(figsize=(10, 6))\n",
    " \n",
    "# Creating plot\n",
    "bp = ax.boxplot(data, labels=labels)\n",
    " \n",
    "# show plot\n",
    "plt.show()"
   ]
  },
  {
   "cell_type": "code",
   "execution_count": 7,
   "id": "7b9e5b9a-a65f-4bc6-b311-7076993bbd3b",
   "metadata": {},
   "outputs": [
    {
     "name": "stdout",
     "output_type": "stream",
     "text": [
      "                                       long_desc  vitamin_c_in_mg_100kcal\n",
      "77                Peppers, hot chili, green, raw               606.250000\n",
      "80                      Peppers, sweet, red, raw               411.935484\n",
      "90                        Peppers, jalapeno, raw               408.965517\n",
      "44                    Peppers, sweet, green, raw               402.000000\n",
      "70                               Watercress, raw               390.909091\n",
      "79                  Peppers, hot chili, red, raw               359.250000\n",
      "12              Cabbage, chinese (pak-choi), raw               346.153846\n",
      "91                       Peppers, hungarian, raw               320.344828\n",
      "88                           Pepper, banana, raw               306.296296\n",
      "87                       Cauliflower, green, raw               284.193548\n",
      "5                                  Broccoli, raw               262.352941\n",
      "32                                     Kale, raw               244.897959\n",
      "33                                 Kohlrabi, raw               229.629630\n",
      "24                            Cress, garden, raw               215.625000\n",
      "7                          Brussels sprouts, raw               197.674419\n",
      "21                                   Chives, raw               193.666667\n",
      "16                              Cauliflower, raw               192.800000\n",
      "10                             Cabbage, red, raw               183.870968\n",
      "13               Cabbage, chinese (pe-tsai), raw               168.750000\n",
      "19                             Chard, swiss, raw               157.894737\n",
      "9                                   Cabbage, raw               146.400000\n",
      "89                         Peppers, serrano, raw               140.312500\n",
      "51                       Radishes, oriental, raw               122.222222\n",
      "57                                  Spinach, raw               122.173913\n",
      "11                           Cabbage, savoy, raw               114.814815\n",
      "56                           Seaweed, laver, raw               111.428571\n",
      "22                                 Collards, raw               110.312500\n",
      "73            Squash, summer, all varieties, raw               106.250000\n",
      "60  Squash, summer, zucchini, includes skin, raw               105.294118\n",
      "66                          Tomatoes, green, raw               101.739130\n",
      "                           long_desc  vitamin_c_in_mg\n",
      "77    Peppers, hot chili, green, raw            242.5\n",
      "79      Peppers, hot chili, red, raw            143.7\n",
      "80          Peppers, sweet, red, raw            127.7\n",
      "32                         Kale, raw            120.0\n",
      "90            Peppers, jalapeno, raw            118.6\n",
      "91           Peppers, hungarian, raw             92.9\n",
      "5                      Broccoli, raw             89.2\n",
      "87           Cauliflower, green, raw             88.1\n",
      "7              Brussels sprouts, raw             85.0\n",
      "88               Pepper, banana, raw             82.7\n",
      "44        Peppers, sweet, green, raw             80.4\n",
      "24                Cress, garden, raw             69.0\n",
      "33                     Kohlrabi, raw             62.0\n",
      "21                       Chives, raw             58.1\n",
      "10                 Cabbage, red, raw             57.0\n",
      "16                  Cauliflower, raw             48.2\n",
      "12  Cabbage, chinese (pak-choi), raw             45.0\n",
      "89             Peppers, serrano, raw             44.9\n",
      "70                   Watercress, raw             43.0\n",
      "56               Seaweed, laver, raw             39.0\n",
      "9                       Cabbage, raw             36.6\n",
      "22                     Collards, raw             35.3\n",
      "29                       Garlic, raw             31.2\n",
      "11               Cabbage, savoy, raw             31.0\n",
      "19                 Chard, swiss, raw             30.0\n",
      "92            Broccoli, chinese, raw             29.6\n",
      "57                      Spinach, raw             28.1\n",
      "13   Cabbage, chinese (pe-tsai), raw             27.0\n",
      "52                    Rutabagas, raw             25.0\n",
      "66              Tomatoes, green, raw             23.4\n"
     ]
    }
   ],
   "source": [
    "top = df_v_vr[['long_desc', 'vitamin_c_in_mg_100kcal']].sort_values(by='vitamin_c_in_mg_100kcal',ascending=False)\n",
    "top_30_values = top.head(30)\n",
    "print(top_30_values)\n",
    "\n",
    "top = df_v_vr[['long_desc', 'vitamin_c_in_mg']].sort_values(by=\"vitamin_c_in_mg\",ascending=False)\n",
    "top_30_values = top.head(30)\n",
    "print(top_30_values)"
   ]
  },
  {
   "cell_type": "code",
   "execution_count": 8,
   "id": "0f5b70f9-51da-465a-9cad-0985531d6ef3",
   "metadata": {},
   "outputs": [
    {
     "name": "stdout",
     "output_type": "stream",
     "text": [
      "                                            long_desc  vitamin_c_in_mg_100kcal\n",
      "26                                Guavas, common, raw               335.735294\n",
      "64                     Kiwifruit, ZESPRI SunGold, raw               256.031746\n",
      "57                                  Strawberries, raw               183.750000\n",
      "28                              Kiwifruit, green, raw               151.967213\n",
      "42                                       Papayas, raw               141.627907\n",
      "39                               Oranges, raw, navels               120.612245\n",
      "38             Oranges, raw, all commercial varieties               113.191489\n",
      "12                        Carambola, (starfruit), raw               110.967742\n",
      "63                Pineapple, raw, extra sweet variety               110.588235\n",
      "31                                       Litchis, raw               108.333333\n",
      "33                            Melons, cantaloupe, raw               107.941176\n",
      "21  Grapefruit, raw, pink and red and white, all a...               107.500000\n",
      "23                  Grapefruit, raw, white, all areas               100.909091\n",
      "40                              Oranges, raw, Florida                97.826087\n",
      "30                                         Limes, raw                97.000000\n",
      "47                      Pineapple, raw, all varieties                95.600000\n",
      "36                                    Mulberries, raw                84.651163\n",
      "34                                Melons, casaba, raw                77.857143\n",
      "22           Grapefruit, raw, pink and red, all areas                74.285714\n",
      "17                       Currants, red and white, raw                73.214286\n",
      "20                                  Gooseberries, raw                62.954545\n",
      "29                                      Kumquats, raw                61.830986\n",
      "32                                        Mangos, raw                60.666667\n",
      "60                                        Feijoa, raw                53.934426\n",
      "54                                   Raspberries, raw                50.384615\n",
      "41                Tangerines, (mandarin oranges), raw                50.377358\n",
      "35                              Melons, honeydew, raw                50.000000\n",
      "9                                   Blackberries, raw                48.837209\n",
      "55                                       Rhubarb, raw                38.095238\n",
      "56                                       Soursop, raw                31.212121\n",
      "                                            long_desc  vitamin_c_in_mg_100kcal\n",
      "26                                Guavas, common, raw               335.735294\n",
      "64                     Kiwifruit, ZESPRI SunGold, raw               256.031746\n",
      "57                                  Strawberries, raw               183.750000\n",
      "28                              Kiwifruit, green, raw               151.967213\n",
      "42                                       Papayas, raw               141.627907\n",
      "39                               Oranges, raw, navels               120.612245\n",
      "38             Oranges, raw, all commercial varieties               113.191489\n",
      "12                        Carambola, (starfruit), raw               110.967742\n",
      "63                Pineapple, raw, extra sweet variety               110.588235\n",
      "31                                       Litchis, raw               108.333333\n",
      "33                            Melons, cantaloupe, raw               107.941176\n",
      "21  Grapefruit, raw, pink and red and white, all a...               107.500000\n",
      "23                  Grapefruit, raw, white, all areas               100.909091\n",
      "40                              Oranges, raw, Florida                97.826087\n",
      "30                                         Limes, raw                97.000000\n",
      "47                      Pineapple, raw, all varieties                95.600000\n",
      "36                                    Mulberries, raw                84.651163\n",
      "34                                Melons, casaba, raw                77.857143\n",
      "22           Grapefruit, raw, pink and red, all areas                74.285714\n",
      "17                       Currants, red and white, raw                73.214286\n",
      "20                                  Gooseberries, raw                62.954545\n",
      "29                                      Kumquats, raw                61.830986\n",
      "32                                        Mangos, raw                60.666667\n",
      "60                                        Feijoa, raw                53.934426\n",
      "54                                   Raspberries, raw                50.384615\n",
      "41                Tangerines, (mandarin oranges), raw                50.377358\n",
      "35                              Melons, honeydew, raw                50.000000\n",
      "9                                   Blackberries, raw                48.837209\n",
      "55                                       Rhubarb, raw                38.095238\n",
      "56                                       Soursop, raw                31.212121\n"
     ]
    }
   ],
   "source": [
    "top = df_v_fr[['long_desc', 'vitamin_c_in_mg_100kcal']].sort_values(by='vitamin_c_in_mg_100kcal',ascending=False)\n",
    "top_30_values = top.head(30)\n",
    "print(top_30_values)\n",
    "\n",
    "top = df_v_fr[['long_desc', 'vitamin_c_in_mg']].sort_values(by=\"vitamin_c_in_mg\",ascending=False)\n",
    "top_20_values = top.head(30)\n",
    "print(top_30_values)"
   ]
  },
  {
   "cell_type": "code",
   "execution_count": 10,
   "id": "65ce269a-b21b-4943-92cc-dc8ce31f73bf",
   "metadata": {},
   "outputs": [
    {
     "data": {
      "text/plain": [
       "<Figure size 600x300 with 0 Axes>"
      ]
     },
     "metadata": {},
     "output_type": "display_data"
    },
    {
     "data": {
      "image/png": "[encoded data removed]",
      "text/plain": [
       "<Figure size 1000x600 with 1 Axes>"
      ]
     },
     "metadata": {},
     "output_type": "display_data"
    }
   ],
   "source": [
    "# Let's see how zinc content distributes between 100kcal of products:\n",
    "\n",
    "data = [df_v_vr['vitamin_c_in_mg_100kcal'], df_v_fr['vitamin_c_in_mg_100kcal']]\n",
    " \n",
    "fig = plt.figure(figsize =(6, 3))\n",
    " \n",
    "# Creating axes instance\n",
    "labels = ['Veg Raw', 'Fruit Raw']\n",
    "fig, ax = plt.subplots(figsize=(10, 6))\n",
    " \n",
    "# Creating plot\n",
    "bp = ax.boxplot(data, labels=labels)\n",
    " \n",
    "# show plot\n",
    "plt.show()"
   ]
  },
  {
   "cell_type": "code",
   "execution_count": null,
   "id": "0c967216-5644-4de5-809e-d5601458885b",
   "metadata": {},
   "outputs": [],
   "source": []
  }
 ],
 "metadata": {
  "kernelspec": {
   "display_name": "Python 3 (ipykernel)",
   "language": "python",
   "name": "python3"
  },
  "language_info": {
   "codemirror_mode": {
    "name": "ipython",
    "version": 3
   },
   "file_extension": ".py",
   "mimetype": "text/x-python",
   "name": "python",
   "nbconvert_exporter": "python",
   "pygments_lexer": "ipython3",
   "version": "3.11.4"
  }
 },
 "nbformat": 4,
 "nbformat_minor": 5
}
