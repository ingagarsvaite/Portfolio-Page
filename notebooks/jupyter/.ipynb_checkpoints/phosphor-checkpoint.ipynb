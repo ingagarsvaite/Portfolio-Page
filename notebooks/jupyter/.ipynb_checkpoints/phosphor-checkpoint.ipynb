{
 "cells": [
  {
   "cell_type": "code",
   "execution_count": 1,
   "id": "9d18adca-446c-476a-a9f2-9ca9910d12d8",
   "metadata": {},
   "outputs": [],
   "source": [
    "# Okay, here we will dive deeper into phosphor. "
   ]
  },
  {
   "cell_type": "code",
   "execution_count": 2,
   "id": "5b32f98b-20a1-41b7-8955-c21385d2d48b",
   "metadata": {},
   "outputs": [],
   "source": [
    "import pandas as pd\n",
    "import numpy as np\n",
    "import matplotlib.pyplot as plt\n",
    "import seaborn as sns\n",
    "from sqlalchemy import create_engine\n",
    "import os"
   ]
  },
  {
   "cell_type": "code",
   "execution_count": 3,
   "id": "8c5927ad-5c8c-45d8-b80c-d014e62f70c9",
   "metadata": {},
   "outputs": [],
   "source": [
    "\n",
    "database_path = 'sqlite:///C:/Users/Vartotojas/Desktop/programavimas/baigiamasis_darbas/db/db.sqlite3'\n",
    "\n",
    "engine = create_engine(database_path)\n",
    "\n",
    "with engine.connect() as conn:\n",
    "  query_vc = 'SELECT * FROM vegetables_cooked'\n",
    "  df_v_vc = pd.read_sql_query(query_vc, engine)\n",
    "\n",
    "  query_vr = 'SELECT * FROM vegetables_raw'\n",
    "  df_v_vr = pd.read_sql_query(query_vr, engine)\n",
    "\n",
    "  query_fd = 'SELECT * FROM fruits_dried'\n",
    "  df_v_fd = pd.read_sql_query(query_fd, engine)\n",
    "\n",
    "  query_fr = 'SELECT * FROM fruits_raw'\n",
    "  df_v_fr = pd.read_sql_query(query_fr, engine)\n"
   ]
  },
  {
   "cell_type": "code",
   "execution_count": 4,
   "id": "c98f42d8-514b-447a-b1d2-f3cd8f74e693",
   "metadata": {},
   "outputs": [
    {
     "data": {
      "text/plain": [
       "<Figure size 600x300 with 0 Axes>"
      ]
     },
     "metadata": {},
     "output_type": "display_data"
    },
    {
     "data": {
      "image/png": "[encoded data removed]",
      "text/plain": [
       "<Figure size 1000x600 with 1 Axes>"
      ]
     },
     "metadata": {},
     "output_type": "display_data"
    }
   ],
   "source": [
    "\n",
    "data = [df_v_vc['p_in_mg'], df_v_vr['p_in_mg'], df_v_fr['p_in_mg'], df_v_fd['p_in_mg']]\n",
    " \n",
    "fig = plt.figure(figsize =(6, 3))\n",
    " \n",
    "# Creating axes instance\n",
    "labels = ['Veg Cooked', 'Veg Raw', 'Fruit Raw', 'Fruit Dried']\n",
    "fig, ax = plt.subplots(figsize=(10, 6))\n",
    " \n",
    "# Creating plot\n",
    "bp = ax.boxplot(data, labels=labels)\n",
    " \n",
    "# show plot\n",
    "plt.show()"
   ]
  },
  {
   "cell_type": "code",
   "execution_count": 5,
   "id": "7b9e5b9a-a65f-4bc6-b311-7076993bbd3b",
   "metadata": {},
   "outputs": [
    {
     "name": "stdout",
     "output_type": "stream",
     "text": [
      "                                            long_desc  p_mg_in_100kcal\n",
      "70                                    Watercress, raw       545.454545\n",
      "6                                  Broccoli raab, raw       331.818182\n",
      "54                            Seaweed, irishmoss, raw       320.408163\n",
      "0                        Alfalfa seeds, sprouted, raw       304.347826\n",
      "12                   Cabbage, chinese (pak-choi), raw       284.615385\n",
      "17                                      Celeriac, raw       273.809524\n",
      "2                                      Asparagus, raw       260.000000\n",
      "35  Lettuce, butterhead (includes boston and bibb ...       253.846154\n",
      "19                                  Chard, swiss, raw       242.105263\n",
      "73                 Squash, summer, all varieties, raw       237.500000\n",
      "24                                 Cress, garden, raw       237.500000\n",
      "60       Squash, summer, zucchini, includes skin, raw       223.529412\n",
      "3                                  Bamboo shoots, raw       218.518519\n",
      "57                                       Spinach, raw       213.043478\n",
      "85                                       Arugula, raw       208.000000\n",
      "87                            Cauliflower, green, raw       200.000000\n",
      "59                       Squash, summer, scallop, raw       200.000000\n",
      "5                                       Broccoli, raw       194.117647\n",
      "38                           Lettuce, green leaf, raw       193.333333\n",
      "21                                        Chives, raw       193.333333\n",
      "1                  Artichokes, (globe or french), raw       191.489362\n",
      "32                                          Kale, raw       187.755102\n",
      "40                                          Okra, raw       184.848485\n",
      "13                    Cabbage, chinese (pe-tsai), raw       181.250000\n",
      "76                               Seaweed, wakame, raw       177.777778\n",
      "36                       Lettuce, cos or romaine, raw       176.470588\n",
      "16                                   Cauliflower, raw       176.000000\n",
      "39                             Lettuce, red leaf, raw       175.000000\n",
      "26                              Cucumber, peeled, raw       175.000000\n",
      "82                                     Radicchio, raw       173.913043\n",
      "                                long_desc  p_in_mg\n",
      "54                Seaweed, irishmoss, raw    157.0\n",
      "29                            Garlic, raw    153.0\n",
      "93                    Hearts of palm, raw    140.0\n",
      "17                          Celeriac, raw    115.0\n",
      "32                              Kale, raw     92.0\n",
      "1      Artichokes, (globe or french), raw     90.0\n",
      "81                Corn, sweet, white, raw     89.0\n",
      "23               Corn, sweet, yellow, raw     89.0\n",
      "65                              Taro, raw     84.0\n",
      "76                   Seaweed, wakame, raw     80.0\n",
      "31              Jerusalem-artichokes, raw     78.0\n",
      "24                     Cress, garden, raw     76.0\n",
      "6                      Broccoli raab, raw     73.0\n",
      "43                          Parsnips, raw     71.0\n",
      "0            Alfalfa seeds, sprouted, raw     70.0\n",
      "7                   Brussels sprouts, raw     69.0\n",
      "5                           Broccoli, raw     66.0\n",
      "69  Waterchestnuts, chinese, (matai), raw     63.0\n",
      "87                Cauliflower, green, raw     62.0\n",
      "47   Potatoes, white, flesh and skin, raw     62.0\n",
      "40                              Okra, raw     61.0\n",
      "48     Potatoes, red, flesh and skin, raw     61.0\n",
      "70                        Watercress, raw     60.0\n",
      "78                          Shallots, raw     60.0\n",
      "3                      Bamboo shoots, raw     59.0\n",
      "21                            Chives, raw     58.0\n",
      "56                    Seaweed, laver, raw     58.0\n",
      "45          Potatoes, flesh and skin, raw     57.0\n",
      "46  Potatoes, russet, flesh and skin, raw     55.0\n",
      "71                               Yam, raw     55.0\n"
     ]
    }
   ],
   "source": [
    "top = df_v_vr[['long_desc', 'p_mg_in_100kcal']].sort_values(by='p_mg_in_100kcal',ascending=False)\n",
    "top_30_values = top.head(30)\n",
    "print(top_30_values)\n",
    "\n",
    "top = df_v_vr[['long_desc', 'p_in_mg']].sort_values(by=\"p_in_mg\",ascending=False)\n",
    "top_30_values = top.head(30)\n",
    "print(top_30_values)"
   ]
  },
  {
   "cell_type": "code",
   "execution_count": 6,
   "id": "0f5b70f9-51da-465a-9cad-0985531d6ef3",
   "metadata": {},
   "outputs": [
    {
     "name": "stdout",
     "output_type": "stream",
     "text": [
      "                                   long_desc  p_mg_in_100kcal\n",
      "36                           Mulberries, raw        88.372093\n",
      "17              Currants, red and white, raw        78.571429\n",
      "57                         Strawberries, raw        75.000000\n",
      "43  Passion-fruit, (granadilla), purple, raw        70.103093\n",
      "55                              Rhubarb, raw        66.666667\n",
      "20                         Gooseberries, raw        61.363636\n",
      "30                                Limes, raw        60.000000\n",
      "37                           Nectarines, raw        59.090909\n",
      "26                       Guavas, common, raw        58.823529\n",
      "54                          Raspberries, raw        55.769231\n",
      "28                     Kiwifruit, green, raw        55.737705\n",
      "44                      Peaches, yellow, raw        51.282051\n",
      "9                          Blackberries, raw        51.162791\n",
      "4                              Apricots, raw        47.916667\n",
      "58                            Tamarinds, raw        47.280335\n",
      "31                              Litchis, raw        46.969697\n",
      "39                      Oranges, raw, navels        46.938776\n",
      "33                   Melons, cantaloupe, raw        44.117647\n",
      "51                         Pomegranates, raw        43.373494\n",
      "22  Grapefruit, raw, pink and red, all areas        42.857143\n",
      "56                              Soursop, raw        40.909091\n",
      "64            Kiwifruit, ZESPRI SunGold, raw        39.682540\n",
      "12               Carambola, (starfruit), raw        38.709677\n",
      "52                  Raisins, golden seedless        38.079470\n",
      "41       Tangerines, (mandarin oranges), raw        37.735849\n",
      "59                           Watermelon, raw        36.666667\n",
      "50                                Plums, raw        34.782609\n",
      "13                            Cherimoya, raw        34.666667\n",
      "53                         Raisins, seedless        33.779264\n",
      "7                     Avocados, raw, Florida        33.333333\n",
      "                                   long_desc  p_mg_in_100kcal\n",
      "36                           Mulberries, raw        88.372093\n",
      "17              Currants, red and white, raw        78.571429\n",
      "57                         Strawberries, raw        75.000000\n",
      "43  Passion-fruit, (granadilla), purple, raw        70.103093\n",
      "55                              Rhubarb, raw        66.666667\n",
      "20                         Gooseberries, raw        61.363636\n",
      "30                                Limes, raw        60.000000\n",
      "37                           Nectarines, raw        59.090909\n",
      "26                       Guavas, common, raw        58.823529\n",
      "54                          Raspberries, raw        55.769231\n",
      "28                     Kiwifruit, green, raw        55.737705\n",
      "44                      Peaches, yellow, raw        51.282051\n",
      "9                          Blackberries, raw        51.162791\n",
      "4                              Apricots, raw        47.916667\n",
      "58                            Tamarinds, raw        47.280335\n",
      "31                              Litchis, raw        46.969697\n",
      "39                      Oranges, raw, navels        46.938776\n",
      "33                   Melons, cantaloupe, raw        44.117647\n",
      "51                         Pomegranates, raw        43.373494\n",
      "22  Grapefruit, raw, pink and red, all areas        42.857143\n",
      "56                              Soursop, raw        40.909091\n",
      "64            Kiwifruit, ZESPRI SunGold, raw        39.682540\n",
      "12               Carambola, (starfruit), raw        38.709677\n",
      "52                  Raisins, golden seedless        38.079470\n",
      "41       Tangerines, (mandarin oranges), raw        37.735849\n",
      "59                           Watermelon, raw        36.666667\n",
      "50                                Plums, raw        34.782609\n",
      "13                            Cherimoya, raw        34.666667\n",
      "53                         Raisins, seedless        33.779264\n",
      "7                     Avocados, raw, Florida        33.333333\n"
     ]
    }
   ],
   "source": [
    "top = df_v_fr[['long_desc', 'p_mg_in_100kcal']].sort_values(by='p_mg_in_100kcal',ascending=False)\n",
    "top_30_values = top.head(30)\n",
    "print(top_30_values)\n",
    "\n",
    "top = df_v_fr[['long_desc', 'p_in_mg']].sort_values(by=\"p_in_mg\",ascending=False)\n",
    "top_20_values = top.head(30)\n",
    "print(top_30_values)"
   ]
  },
  {
   "cell_type": "code",
   "execution_count": 6,
   "id": "65ce269a-b21b-4943-92cc-dc8ce31f73bf",
   "metadata": {},
   "outputs": [
    {
     "data": {
      "text/plain": [
       "<Figure size 600x300 with 0 Axes>"
      ]
     },
     "metadata": {},
     "output_type": "display_data"
    },
    {
     "data": {
      "image/png": "[encoded data removed]",
      "text/plain": [
       "<Figure size 1000x600 with 1 Axes>"
      ]
     },
     "metadata": {},
     "output_type": "display_data"
    }
   ],
   "source": [
    "# Let's see how zinc content distributes between 100kcal of products:\n",
    "\n",
    "data = [df_v_vr['p_mg_in_100kcal'], df_v_fr['p_mg_in_100kcal']]\n",
    " \n",
    "fig = plt.figure(figsize =(6, 3))\n",
    " \n",
    "# Creating axes instance\n",
    "labels = ['Veg Raw', 'Fruit Raw']\n",
    "fig, ax = plt.subplots(figsize=(10, 6))\n",
    " \n",
    "# Creating plot\n",
    "bp = ax.boxplot(data, labels=labels)\n",
    " \n",
    "# show plot\n",
    "plt.show()"
   ]
  },
  {
   "cell_type": "code",
   "execution_count": null,
   "id": "0c967216-5644-4de5-809e-d5601458885b",
   "metadata": {},
   "outputs": [],
   "source": []
  }
 ],
 "metadata": {
  "kernelspec": {
   "display_name": "Python 3 (ipykernel)",
   "language": "python",
   "name": "python3"
  },
  "language_info": {
   "codemirror_mode": {
    "name": "ipython",
    "version": 3
   },
   "file_extension": ".py",
   "mimetype": "text/x-python",
   "name": "python",
   "nbconvert_exporter": "python",
   "pygments_lexer": "ipython3",
   "version": "3.11.4"
  }
 },
 "nbformat": 4,
 "nbformat_minor": 5
}
