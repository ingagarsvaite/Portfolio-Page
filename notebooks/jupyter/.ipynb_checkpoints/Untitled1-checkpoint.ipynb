{
 "cells": [
  {
   "cell_type": "code",
   "execution_count": 3,
   "id": "993fa04e-0dd4-4f7a-bb66-979cd24f384d",
   "metadata": {},
   "outputs": [],
   "source": [
    "import pandas as pd\n",
    "import numpy as np\n",
    "import matplotlib.pyplot as plt\n",
    "import seaborn as sns\n",
    "from sqlalchemy import create_engine"
   ]
  },
  {
   "cell_type": "code",
   "execution_count": 4,
   "id": "7b88f0b8-abd0-49a7-bcb7-362e393d4959",
   "metadata": {},
   "outputs": [],
   "source": [
    "query_vc = \"\"\" \n",
    "SELECT * FROM vegetables\n",
    "WHERE food_group_id = 1100\n",
    "AND long_desc LIKE '%cook%'\n",
    "AND NOT(long_desc LIKE \"%beans%\"\n",
    "     OR long_desc LIKE \"%peas%\"\n",
    "     OR long_desc LIKE \"%lentils%\"\n",
    "     OR long_desc LIKE \"%leaves%\"\n",
    "\t OR long_desc LIKE \"%greens%\"\n",
    "\t OR long_desc LIKE \"%mushroom%\"\n",
    "  \t OR long_desc LIKE \"%frozen%\"\n",
    " \t OR long_desc LIKE \"%with salt%\");\n",
    "\"\"\"\n",
    "\n",
    "\n",
    "query_vr = \"\"\" \n",
    "SELECT * FROM vegetables\n",
    "WHERE food_group_id = 1100\n",
    "AND long_desc LIKE '%raw%'\n",
    "AND NOT(long_desc LIKE \"%beans%\"\n",
    "     OR long_desc LIKE \"%peas%\"\n",
    "     OR long_desc LIKE \"%lentils%\"\n",
    "     OR long_desc LIKE \"%leaves%\"\n",
    "\t OR long_desc LIKE \"%greens%\"\n",
    "\t OR long_desc LIKE \"%mushroom%\"\n",
    "      );\n",
    "\"\"\"\n",
    "\n",
    "query_fd = \"\"\" \n",
    "SELECT * FROM fruits_dried\n",
    "WHERE food_group_id = 900\n",
    "AND (long_desc LIKE \"%dried%\"\n",
    "OR long_desc LIKE \"%dehydrated%\")\n",
    "AND NOT (long_desc LIKE \"%juice%\"\n",
    "OR long_desc LIKE \"%sauce%\"\n",
    "OR long_desc LIKE \"%canned%\"\n",
    "OR long_desc LIKE \"%frozen%\"\n",
    "OR long_desc LIKE \"%peel%\"\n",
    "OR long_desc LIKE \"%cooked%\"\n",
    "OR long_desc LIKE \"%California%\"\n",
    "OR long_desc LIKE \"%Florida%\"\n",
    "OR long_desc LIKE \"%navels%\"\n",
    "OR id LIKE \"9111\"\n",
    ");\n",
    "\"\"\"\n",
    "\n",
    "query_fr = \"\"\" \n",
    "SELECT * FROM fruits_raw\n",
    "WHERE food_group_id = 900\n",
    "AND NOT (long_desc LIKE \"%juice%\"\n",
    "OR long_desc LIKE \"%sauce%\"\n",
    "OR long_desc LIKE \"%canned%\"\n",
    "OR long_desc LIKE \"%frozen%\"\n",
    "OR long_desc LIKE \"%dried%\"\n",
    "OR long_desc LIKE \"%dehydrated%\"\n",
    "OR long_desc LIKE \"%peel%\"\n",
    "OR long_desc LIKE \"%cooked%\"\n",
    "OR long_desc LIKE \"%California%\"\n",
    "OR long_desc LIKE \"%Florida%\"\n",
    "OR long_desc LIKE \"%navels%\"\n",
    "OR id LIKE \"9111\"\n",
    ");\n",
    "\"\"\"\n",
    "\n",
    "database_url = 'sqlite:///C:/Users/Vartotojas/Desktop/programavimas/baigiamasis_darbas/db/db.sqlite3'\n",
    "\n",
    "engine = create_engine(database_url)\n",
    "\n",
    "with engine.connect() as conn:\n",
    "     df_v_fr = pd.read_sql_query(query_fr, engine)\n",
    "     df_v_vc = pd.read_sql_query(query_vc, engine)\n",
    "     df_v_fd = pd.read_sql_query(query_fd, engine)\n",
    "     df_v_vr = pd.read_sql_query(query_vr, engine)"
   ]
  },
  {
   "cell_type": "code",
   "execution_count": 5,
   "id": "d8eac850-78fb-4cfc-80f1-7e3540b17f0c",
   "metadata": {},
   "outputs": [
    {
     "data": {
      "text/plain": [
       "<Figure size 600x300 with 0 Axes>"
      ]
     },
     "metadata": {},
     "output_type": "display_data"
    },
    {
     "data": {
      "image/png": "[encoded data removed]",
      "text/plain": [
       "<Figure size 1000x600 with 1 Axes>"
      ]
     },
     "metadata": {},
     "output_type": "display_data"
    }
   ],
   "source": [
    "data = [df_v_vc['mg_in_mg'], df_v_vr['mg_in_mg'], df_v_fr['mg_in_mg'], df_v_fd['mg_in_mg']]\n",
    " \n",
    "fig = plt.figure(figsize =(6, 3))\n",
    " \n",
    "# Creating axes instance\n",
    "labels = ['Veg Cooked', 'Veg Raw', 'Fruit Raw', 'Fruit Dried']\n",
    "fig, ax = plt.subplots(figsize=(10, 6))\n",
    " \n",
    "# Creating plot\n",
    "bp = ax.boxplot(data, labels=labels)\n",
    " \n",
    "# show plot\n",
    "plt.show()"
   ]
  },
  {
   "cell_type": "code",
   "execution_count": 6,
   "id": "e321318e-9696-4a2d-9dfd-3cc4e8e2b598",
   "metadata": {},
   "outputs": [
    {
     "name": "stdout",
     "output_type": "stream",
     "text": [
      "                                            long_desc  mg_mg_in_100kcal\n",
      "19                                  Chard, swiss, raw        426.315789\n",
      "57                                       Spinach, raw        343.478261\n",
      "86                                       Nopales, raw        325.000000\n",
      "54                            Seaweed, irishmoss, raw        293.877551\n",
      "55                                 Seaweed, kelp, raw        281.395349\n",
      "53                                 Seaweed, agar, raw        257.692308\n",
      "76                               Seaweed, wakame, raw        237.777778\n",
      "70                                    Watercress, raw        190.909091\n",
      "85                                       Arugula, raw        188.000000\n",
      "40                                          Okra, raw        172.727273\n",
      "12                   Cabbage, chinese (pak-choi), raw        146.153846\n",
      "21                                        Chives, raw        140.000000\n",
      "59                       Squash, summer, scallop, raw        127.777778\n",
      "1                  Artichokes, (globe or french), raw        127.659574\n",
      "24                                 Cress, garden, raw        118.750000\n",
      "0                        Alfalfa seeds, sprouted, raw        117.391304\n",
      "73                 Squash, summer, all varieties, raw        106.250000\n",
      "60       Squash, summer, zucchini, includes skin, raw        105.882353\n",
      "58    Squash, summer, crookneck and straightneck, raw        105.263158\n",
      "11                                Cabbage, savoy, raw        103.703704\n",
      "6                                  Broccoli raab, raw        100.000000\n",
      "26                              Cucumber, peeled, raw        100.000000\n",
      "35  Lettuce, butterhead (includes boston and bibb ...        100.000000\n",
      "32                                          Kale, raw         95.918367\n",
      "51                            Radishes, oriental, raw         88.888889\n",
      "28                                        Endive, raw         88.235294\n",
      "25                           Cucumber, with peel, raw         86.666667\n",
      "38                           Lettuce, green leaf, raw         86.666667\n",
      "22                                      Collards, raw         84.375000\n",
      "36                       Lettuce, cos or romaine, raw         82.352941\n",
      "                                    long_desc  mg_in_mg\n",
      "54                    Seaweed, irishmoss, raw     144.0\n",
      "55                         Seaweed, kelp, raw     121.0\n",
      "76                       Seaweed, wakame, raw     107.0\n",
      "19                          Chard, swiss, raw      81.0\n",
      "57                               Spinach, raw      79.0\n",
      "53                         Seaweed, agar, raw      67.0\n",
      "1          Artichokes, (globe or french), raw      60.0\n",
      "40                                  Okra, raw      57.0\n",
      "86                               Nopales, raw      52.0\n",
      "85                               Arugula, raw      47.0\n",
      "32                                  Kale, raw      47.0\n",
      "30                           Ginger root, raw      43.0\n",
      "21                                Chives, raw      42.0\n",
      "8                           Burdock root, raw      38.0\n",
      "24                         Cress, garden, raw      38.0\n",
      "81                    Corn, sweet, white, raw      37.0\n",
      "23                   Corn, sweet, yellow, raw      37.0\n",
      "61             Squash, winter, butternut, raw      34.0\n",
      "65                                  Taro, raw      33.0\n",
      "43                              Parsnips, raw      29.0\n",
      "34  Leeks, (bulb and lower leaf-portion), raw      28.0\n",
      "11                        Cabbage, savoy, raw      28.0\n",
      "0                Alfalfa seeds, sprouted, raw      27.0\n",
      "22                              Collards, raw      27.0\n",
      "77             Peppers, hot chili, green, raw      25.0\n",
      "29                                Garlic, raw      25.0\n",
      "64              Sweet potato, raw, unprepared      25.0\n",
      "59               Squash, summer, scallop, raw      23.0\n",
      "7                       Brussels sprouts, raw      23.0\n",
      "4                                  Beets, raw      23.0\n"
     ]
    }
   ],
   "source": [
    "top = df_v_vr[['long_desc', 'mg_mg_in_100kcal']].sort_values(by='mg_mg_in_100kcal',ascending=False)\n",
    "top_30_values = top.head(30)\n",
    "print(top_30_values)\n",
    "\n",
    "top = df_v_vr[['long_desc', 'mg_in_mg']].sort_values(by=\"mg_in_mg\",ascending=False)\n",
    "top_30_values = top.head(30)\n",
    "print(top_30_values)"
   ]
  },
  {
   "cell_type": "code",
   "execution_count": 7,
   "id": "b726a309-63da-46ec-95bf-dc901c74185f",
   "metadata": {},
   "outputs": [
    {
     "name": "stdout",
     "output_type": "stream",
     "text": [
      "                                   long_desc  mg_mg_in_100kcal\n",
      "47                              Rhubarb, raw         57.142857\n",
      "35                              Papayas, raw         48.837209\n",
      "5                          Blackberries, raw         46.511628\n",
      "46                          Raspberries, raw         42.307692\n",
      "31                           Mulberries, raw         41.860465\n",
      "49                         Strawberries, raw         40.625000\n",
      "29                       Melons, casaba, raw         39.285714\n",
      "50                            Tamarinds, raw         38.493724\n",
      "28                   Melons, cantaloupe, raw         35.294118\n",
      "51                           Watermelon, raw         33.333333\n",
      "21                       Guavas, common, raw         32.352941\n",
      "8                Carambola, (starfruit), raw         32.258065\n",
      "48                              Soursop, raw         31.818182\n",
      "22                            Jackfruit, raw         30.526316\n",
      "4                               Bananas, raw         30.337079\n",
      "41                            Plantains, raw         30.327869\n",
      "36  Passion-fruit, (granadilla), purple, raw         29.896907\n",
      "24                             Kumquats, raw         28.169014\n",
      "23                     Kiwifruit, green, raw         27.868852\n",
      "30                     Melons, honeydew, raw         27.777778\n",
      "18         Grapefruit, raw, white, all areas         27.272727\n",
      "7                            Breadfruit, raw         24.271845\n",
      "40             Pineapple, raw, all varieties         24.000000\n",
      "55       Pineapple, raw, extra sweet variety         23.529412\n",
      "13              Currants, red and white, raw         23.214286\n",
      "37                      Peaches, yellow, raw         23.076923\n",
      "15                                 Figs, raw         22.972973\n",
      "16                         Gooseberries, raw         22.727273\n",
      "9                             Cherimoya, raw         22.666667\n",
      "34       Tangerines, (mandarin oranges), raw         22.641509\n",
      "                                   long_desc  mg_mg_in_100kcal\n",
      "47                              Rhubarb, raw         57.142857\n",
      "35                              Papayas, raw         48.837209\n",
      "5                          Blackberries, raw         46.511628\n",
      "46                          Raspberries, raw         42.307692\n",
      "31                           Mulberries, raw         41.860465\n",
      "49                         Strawberries, raw         40.625000\n",
      "29                       Melons, casaba, raw         39.285714\n",
      "50                            Tamarinds, raw         38.493724\n",
      "28                   Melons, cantaloupe, raw         35.294118\n",
      "51                           Watermelon, raw         33.333333\n",
      "21                       Guavas, common, raw         32.352941\n",
      "8                Carambola, (starfruit), raw         32.258065\n",
      "48                              Soursop, raw         31.818182\n",
      "22                            Jackfruit, raw         30.526316\n",
      "4                               Bananas, raw         30.337079\n",
      "41                            Plantains, raw         30.327869\n",
      "36  Passion-fruit, (granadilla), purple, raw         29.896907\n",
      "24                             Kumquats, raw         28.169014\n",
      "23                     Kiwifruit, green, raw         27.868852\n",
      "30                     Melons, honeydew, raw         27.777778\n",
      "18         Grapefruit, raw, white, all areas         27.272727\n",
      "7                            Breadfruit, raw         24.271845\n",
      "40             Pineapple, raw, all varieties         24.000000\n",
      "55       Pineapple, raw, extra sweet variety         23.529412\n",
      "13              Currants, red and white, raw         23.214286\n",
      "37                      Peaches, yellow, raw         23.076923\n",
      "15                                 Figs, raw         22.972973\n",
      "16                         Gooseberries, raw         22.727273\n",
      "9                             Cherimoya, raw         22.666667\n",
      "34       Tangerines, (mandarin oranges), raw         22.641509\n"
     ]
    }
   ],
   "source": [
    "top = df_v_fr[['long_desc', 'mg_mg_in_100kcal']].sort_values(by='mg_mg_in_100kcal',ascending=False)\n",
    "top_30_values = top.head(30)\n",
    "print(top_30_values)\n",
    "\n",
    "top = df_v_fr[['long_desc', 'mg_in_mg']].sort_values(by=\"mg_in_mg\",ascending=False)\n",
    "top_20_values = top.head(30)\n",
    "print(top_30_values)"
   ]
  },
  {
   "cell_type": "code",
   "execution_count": 8,
   "id": "7a79d221-ee7e-4486-b947-9542ee9c787a",
   "metadata": {},
   "outputs": [
    {
     "data": {
      "text/plain": [
       "<Figure size 600x300 with 0 Axes>"
      ]
     },
     "metadata": {},
     "output_type": "display_data"
    },
    {
     "data": {
      "image/png": "[encoded data removed]",
      "text/plain": [
       "<Figure size 1000x600 with 1 Axes>"
      ]
     },
     "metadata": {},
     "output_type": "display_data"
    }
   ],
   "source": [
    "# Let's see how magnesium content distributes between 100kcal of products:\n",
    "\n",
    "data = [df_v_vr['mg_mg_in_100kcal'], df_v_fr['mg_mg_in_100kcal']]\n",
    " \n",
    "fig = plt.figure(figsize =(6, 3))\n",
    " \n",
    "# Creating axes instance\n",
    "labels = ['Veg Raw', 'Fruit Raw']\n",
    "fig, ax = plt.subplots(figsize=(10, 6))\n",
    " \n",
    "# Creating plot\n",
    "bp = ax.boxplot(data, labels=labels)\n",
    " \n",
    "# show plot\n",
    "plt.show()"
   ]
  },
  {
   "cell_type": "code",
   "execution_count": null,
   "id": "8b9b2038-4acf-4d41-a0e2-2b9714389f70",
   "metadata": {},
   "outputs": [],
   "source": []
  }
 ],
 "metadata": {
  "kernelspec": {
   "display_name": "Python 3 (ipykernel)",
   "language": "python",
   "name": "python3"
  },
  "language_info": {
   "codemirror_mode": {
    "name": "ipython",
    "version": 3
   },
   "file_extension": ".py",
   "mimetype": "text/x-python",
   "name": "python",
   "nbconvert_exporter": "python",
   "pygments_lexer": "ipython3",
   "version": "3.11.4"
  }
 },
 "nbformat": 4,
 "nbformat_minor": 5
}
