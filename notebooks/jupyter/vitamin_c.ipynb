{
 "cells": [
  {
   "cell_type": "code",
   "execution_count": 17,
   "id": "9d18adca-446c-476a-a9f2-9ca9910d12d8",
   "metadata": {},
   "outputs": [],
   "source": [
    "# Okay, here we will dive deeper into vitamin_e. "
   ]
  },
  {
   "cell_type": "code",
   "execution_count": 1,
   "id": "5b32f98b-20a1-41b7-8955-c21385d2d48b",
   "metadata": {},
   "outputs": [],
   "source": [
    "import pandas as pd\n",
    "import numpy as np\n",
    "import matplotlib.pyplot as plt\n",
    "import seaborn as sns\n",
    "from sqlalchemy import create_engine\n",
    "import os"
   ]
  },
  {
   "cell_type": "code",
   "execution_count": 2,
   "id": "8c5927ad-5c8c-45d8-b80c-d014e62f70c9",
   "metadata": {},
   "outputs": [],
   "source": [
    "\n",
    "database_path = 'sqlite:///C:/Users/Vartotojas/Desktop/programavimas/baigiamasis_darbas/db/db.sqlite3'\n",
    "\n",
    "engine = create_engine(database_path)\n",
    "\n",
    "with engine.connect() as conn:\n",
    "  query_vc = 'SELECT * FROM vegetables_cooked'\n",
    "  df_v_vc = pd.read_sql_query(query_vc, engine)\n",
    "\n",
    "  query_vr = 'SELECT * FROM vegetables_raw'\n",
    "  df_v_vr = pd.read_sql_query(query_vr, engine)\n",
    "\n",
    "  query_fd = 'SELECT * FROM fruits_dried'\n",
    "  df_v_fd = pd.read_sql_query(query_fd, engine)\n",
    "\n",
    "  query_fr = 'SELECT * FROM fruits_raw'\n",
    "  df_v_fr = pd.read_sql_query(query_fr, engine)\n"
   ]
  },
  {
   "cell_type": "code",
   "execution_count": 3,
   "id": "c98f42d8-514b-447a-b1d2-f3cd8f74e693",
   "metadata": {},
   "outputs": [
    {
     "data": {
      "text/plain": [
       "<Figure size 600x300 with 0 Axes>"
      ]
     },
     "metadata": {},
     "output_type": "display_data"
    },
    {
     "data": {
      "image/png": "[encoded data removed]",
      "text/plain": [
       "<Figure size 1000x600 with 1 Axes>"
      ]
     },
     "metadata": {},
     "output_type": "display_data"
    }
   ],
   "source": [
    "\n",
    "data = [df_v_vc['vitamin_e_in_mg'], df_v_vr['vitamin_e_in_mg'], df_v_fr['vitamin_e_in_mg'], df_v_fd['vitamin_e_in_mg']]\n",
    " \n",
    "fig = plt.figure(figsize =(6, 3))\n",
    " \n",
    "# Creating axes instance\n",
    "labels = ['Veg Cooked', 'Veg Raw', 'Fruit Raw', 'Fruit Dried']\n",
    "fig, ax = plt.subplots(figsize=(10, 6))\n",
    " \n",
    "# Creating plot\n",
    "bp = ax.boxplot(data, labels=labels)\n",
    " \n",
    "# show plot\n",
    "plt.show()"
   ]
  },
  {
   "cell_type": "code",
   "execution_count": 4,
   "id": "7b9e5b9a-a65f-4bc6-b311-7076993bbd3b",
   "metadata": {},
   "outputs": [
    {
     "name": "stdout",
     "output_type": "stream",
     "text": [
      "                                       long_desc  vitamin_e_in_mg_100kcal\n",
      "90                        Peppers, jalapeno, raw                12.344828\n",
      "19                             Chard, swiss, raw                 9.947368\n",
      "82                                Radicchio, raw                 9.826087\n",
      "70                               Watercress, raw                 9.090909\n",
      "57                                  Spinach, raw                 8.826087\n",
      "6                             Broccoli raab, raw                 7.363636\n",
      "22                                 Collards, raw                 7.062500\n",
      "2                                 Asparagus, raw                 5.650000\n",
      "80                      Peppers, sweet, red, raw                 5.096774\n",
      "49                                  Pumpkin, raw                 4.076923\n",
      "3                             Bamboo shoots, raw                 3.703704\n",
      "53                            Seaweed, agar, raw                 3.346154\n",
      "61                Squash, winter, butternut, raw                 3.200000\n",
      "32                                     Kale, raw                 3.142857\n",
      "67  Tomatoes, red, ripe, raw, year round average                 3.000000\n",
      "56                           Seaweed, laver, raw                 2.857143\n",
      "28                                   Endive, raw                 2.588235\n",
      "88                           Pepper, banana, raw                 2.555556\n",
      "5                                  Broccoli, raw                 2.294118\n",
      "76                          Seaweed, wakame, raw                 2.222222\n",
      "24                            Cress, garden, raw                 2.187500\n",
      "89                         Peppers, serrano, raw                 2.156250\n",
      "65                                     Taro, raw                 2.125000\n",
      "7                          Brussels sprouts, raw                 2.046512\n",
      "55                            Seaweed, kelp, raw                 2.023256\n",
      "43                                 Parsnips, raw                 1.986667\n",
      "75                       Seaweed, spirulina, raw                 1.884615\n",
      "84                             Fennel, bulb, raw                 1.870968\n",
      "44                    Peppers, sweet, green, raw                 1.850000\n",
      "33                                 Kohlrabi, raw                 1.777778\n",
      "                                    long_desc  vitamin_e_in_mg\n",
      "90                     Peppers, jalapeno, raw             3.58\n",
      "65                                  Taro, raw             2.38\n",
      "82                             Radicchio, raw             2.26\n",
      "22                              Collards, raw             2.26\n",
      "57                               Spinach, raw             2.03\n",
      "19                          Chard, swiss, raw             1.89\n",
      "6                          Broccoli raab, raw             1.62\n",
      "80                   Peppers, sweet, red, raw             1.58\n",
      "32                                  Kale, raw             1.54\n",
      "43                              Parsnips, raw             1.49\n",
      "61             Squash, winter, butternut, raw             1.44\n",
      "69      Waterchestnuts, chinese, (matai), raw             1.20\n",
      "2                              Asparagus, raw             1.13\n",
      "49                               Pumpkin, raw             1.06\n",
      "3                          Bamboo shoots, raw             1.00\n",
      "56                        Seaweed, laver, raw             1.00\n",
      "76                       Seaweed, wakame, raw             1.00\n",
      "70                            Watercress, raw             1.00\n",
      "34  Leeks, (bulb and lower leaf-portion), raw             0.92\n",
      "7                       Brussels sprouts, raw             0.88\n",
      "55                         Seaweed, kelp, raw             0.87\n",
      "54                    Seaweed, irishmoss, raw             0.87\n",
      "53                         Seaweed, agar, raw             0.87\n",
      "5                               Broccoli, raw             0.78\n",
      "24                         Cress, garden, raw             0.70\n",
      "77             Peppers, hot chili, green, raw             0.69\n",
      "88                        Pepper, banana, raw             0.69\n",
      "79               Peppers, hot chili, red, raw             0.69\n",
      "89                      Peppers, serrano, raw             0.69\n",
      "14                               Carrots, raw             0.66\n"
     ]
    }
   ],
   "source": [
    "top = df_v_vr[['long_desc', 'vitamin_e_in_mg_100kcal']].sort_values(by='vitamin_e_in_mg_100kcal',ascending=False)\n",
    "top_30_values = top.head(30)\n",
    "print(top_30_values)\n",
    "\n",
    "top = df_v_vr[['long_desc', 'vitamin_e_in_mg']].sort_values(by=\"vitamin_e_in_mg\",ascending=False)\n",
    "top_30_values = top.head(30)\n",
    "print(top_30_values)"
   ]
  },
  {
   "cell_type": "code",
   "execution_count": 5,
   "id": "0f5b70f9-51da-465a-9cad-0985531d6ef3",
   "metadata": {},
   "outputs": [
    {
     "name": "stdout",
     "output_type": "stream",
     "text": [
      "                                            long_desc  vitamin_e_in_mg_100kcal\n",
      "16                                   Cranberries, raw                 2.869565\n",
      "9                                   Blackberries, raw                 2.720930\n",
      "28                              Kiwifruit, green, raw                 2.393443\n",
      "64                     Kiwifruit, ZESPRI SunGold, raw                 2.222222\n",
      "7                              Avocados, raw, Florida                 2.216667\n",
      "36                                    Mulberries, raw                 2.023256\n",
      "44                               Peaches, yellow, raw                 1.871795\n",
      "4                                       Apricots, raw                 1.854167\n",
      "37                                    Nectarines, raw                 1.750000\n",
      "54                                   Raspberries, raw                 1.673077\n",
      "32                                        Mangos, raw                 1.500000\n",
      "5             Avocados, raw, all commercial varieties                 1.293750\n",
      "55                                       Rhubarb, raw                 1.285714\n",
      "6                           Avocados, raw, California                 1.179641\n",
      "26                                Guavas, common, raw                 1.073529\n",
      "46                          Persimmons, japanese, raw                 1.042857\n",
      "10                                   Blueberries, raw                 1.000000\n",
      "57                                  Strawberries, raw                 0.906250\n",
      "20                                  Gooseberries, raw                 0.840909\n",
      "30                                         Limes, raw                 0.733333\n",
      "51                                  Pomegranates, raw                 0.722892\n",
      "42                                       Papayas, raw                 0.697674\n",
      "50                                         Plums, raw                 0.565217\n",
      "12                        Carambola, (starfruit), raw                 0.483871\n",
      "21  Grapefruit, raw, pink and red and white, all a...                 0.406250\n",
      "23                  Grapefruit, raw, white, all areas                 0.393939\n",
      "40                              Oranges, raw, Florida                 0.391304\n",
      "38             Oranges, raw, all commercial varieties                 0.382979\n",
      "41                Tangerines, (mandarin oranges), raw                 0.377358\n",
      "13                                     Cherimoya, raw                 0.360000\n",
      "                                            long_desc  vitamin_e_in_mg_100kcal\n",
      "16                                   Cranberries, raw                 2.869565\n",
      "9                                   Blackberries, raw                 2.720930\n",
      "28                              Kiwifruit, green, raw                 2.393443\n",
      "64                     Kiwifruit, ZESPRI SunGold, raw                 2.222222\n",
      "7                              Avocados, raw, Florida                 2.216667\n",
      "36                                    Mulberries, raw                 2.023256\n",
      "44                               Peaches, yellow, raw                 1.871795\n",
      "4                                       Apricots, raw                 1.854167\n",
      "37                                    Nectarines, raw                 1.750000\n",
      "54                                   Raspberries, raw                 1.673077\n",
      "32                                        Mangos, raw                 1.500000\n",
      "5             Avocados, raw, all commercial varieties                 1.293750\n",
      "55                                       Rhubarb, raw                 1.285714\n",
      "6                           Avocados, raw, California                 1.179641\n",
      "26                                Guavas, common, raw                 1.073529\n",
      "46                          Persimmons, japanese, raw                 1.042857\n",
      "10                                   Blueberries, raw                 1.000000\n",
      "57                                  Strawberries, raw                 0.906250\n",
      "20                                  Gooseberries, raw                 0.840909\n",
      "30                                         Limes, raw                 0.733333\n",
      "51                                  Pomegranates, raw                 0.722892\n",
      "42                                       Papayas, raw                 0.697674\n",
      "50                                         Plums, raw                 0.565217\n",
      "12                        Carambola, (starfruit), raw                 0.483871\n",
      "21  Grapefruit, raw, pink and red and white, all a...                 0.406250\n",
      "23                  Grapefruit, raw, white, all areas                 0.393939\n",
      "40                              Oranges, raw, Florida                 0.391304\n",
      "38             Oranges, raw, all commercial varieties                 0.382979\n",
      "41                Tangerines, (mandarin oranges), raw                 0.377358\n",
      "13                                     Cherimoya, raw                 0.360000\n"
     ]
    }
   ],
   "source": [
    "top = df_v_fr[['long_desc', 'vitamin_e_in_mg_100kcal']].sort_values(by='vitamin_e_in_mg_100kcal',ascending=False)\n",
    "top_30_values = top.head(30)\n",
    "print(top_30_values)\n",
    "\n",
    "top = df_v_fr[['long_desc', 'vitamin_e_in_mg']].sort_values(by=\"vitamin_e_in_mg\",ascending=False)\n",
    "top_20_values = top.head(30)\n",
    "print(top_30_values)"
   ]
  },
  {
   "cell_type": "code",
   "execution_count": 6,
   "id": "65ce269a-b21b-4943-92cc-dc8ce31f73bf",
   "metadata": {},
   "outputs": [
    {
     "data": {
      "text/plain": [
       "<Figure size 600x300 with 0 Axes>"
      ]
     },
     "metadata": {},
     "output_type": "display_data"
    },
    {
     "data": {
      "image/png": "[encoded data removed]",
      "text/plain": [
       "<Figure size 1000x600 with 1 Axes>"
      ]
     },
     "metadata": {},
     "output_type": "display_data"
    }
   ],
   "source": [
    "# Let's see how zinc content distributes between 100kcal of products:\n",
    "\n",
    "data = [df_v_vr['vitamin_e_in_mg_100kcal'], df_v_fr['vitamin_e_in_mg_100kcal']]\n",
    " \n",
    "fig = plt.figure(figsize =(6, 3))\n",
    " \n",
    "# Creating axes instance\n",
    "labels = ['Veg Raw', 'Fruit Raw']\n",
    "fig, ax = plt.subplots(figsize=(10, 6))\n",
    " \n",
    "# Creating plot\n",
    "bp = ax.boxplot(data, labels=labels)\n",
    " \n",
    "# show plot\n",
    "plt.show()"
   ]
  },
  {
   "cell_type": "code",
   "execution_count": null,
   "id": "0c967216-5644-4de5-809e-d5601458885b",
   "metadata": {},
   "outputs": [],
   "source": []
  }
 ],
 "metadata": {
  "kernelspec": {
   "display_name": "Python 3 (ipykernel)",
   "language": "python",
   "name": "python3"
  },
  "language_info": {
   "codemirror_mode": {
    "name": "ipython",
    "version": 3
   },
   "file_extension": ".py",
   "mimetype": "text/x-python",
   "name": "python",
   "nbconvert_exporter": "python",
   "pygments_lexer": "ipython3",
   "version": "3.11.4"
  }
 },
 "nbformat": 4,
 "nbformat_minor": 5
}
