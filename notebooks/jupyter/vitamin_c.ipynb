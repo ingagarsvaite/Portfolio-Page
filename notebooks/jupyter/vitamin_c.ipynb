{
 "cells": [
  {
   "cell_type": "code",
   "execution_count": 38,
   "id": "9d18adca-446c-476a-a9f2-9ca9910d12d8",
   "metadata": {},
   "outputs": [],
   "source": [
    "# Okay, here we will dive deeper into vitamin C"
   ]
  },
  {
   "cell_type": "code",
   "execution_count": 39,
   "id": "5b32f98b-20a1-41b7-8955-c21385d2d48b",
   "metadata": {},
   "outputs": [],
   "source": [
    "import pandas as pd\n",
    "import numpy as np\n",
    "import matplotlib.pyplot as plt\n",
    "import seaborn as sns\n",
    "from sqlalchemy import create_engine\n",
    "import os"
   ]
  },
  {
   "cell_type": "code",
   "execution_count": 40,
   "id": "8c5927ad-5c8c-45d8-b80c-d014e62f70c9",
   "metadata": {},
   "outputs": [],
   "source": [
    "query_vc = \"\"\" \n",
    "SELECT * FROM vegetables\n",
    "WHERE food_group_id = 1100\n",
    "AND long_desc LIKE '%cook%'\n",
    "AND NOT(long_desc LIKE \"%beans%\"\n",
    "     OR long_desc LIKE \"%peas%\"\n",
    "     OR long_desc LIKE \"%lentils%\"\n",
    "     OR long_desc LIKE \"%leaves%\"\n",
    "\t OR long_desc LIKE \"%greens%\"\n",
    "\t OR long_desc LIKE \"%mushroom%\"\n",
    "  \t OR long_desc LIKE \"%frozen%\"\n",
    " \t OR long_desc LIKE \"%with salt%\");\n",
    "\"\"\"\n",
    "\n",
    "\n",
    "query_vr = \"\"\" \n",
    "SELECT * FROM vegetables\n",
    "WHERE food_group_id = 1100\n",
    "AND long_desc LIKE '%raw%'\n",
    "AND NOT(long_desc LIKE \"%beans%\"\n",
    "     OR long_desc LIKE \"%peas%\"\n",
    "     OR long_desc LIKE \"%lentils%\"\n",
    "     OR long_desc LIKE \"%leaves%\"\n",
    "\t OR long_desc LIKE \"%greens%\"\n",
    "\t OR long_desc LIKE \"%mushroom%\"\n",
    "      );\n",
    "\"\"\"\n",
    "\n",
    "query_fd = \"\"\" \n",
    "SELECT * FROM fruits_dried\n",
    "WHERE food_group_id = 900\n",
    "AND (long_desc LIKE \"%dried%\"\n",
    "OR long_desc LIKE \"%dehydrated%\")\n",
    "AND NOT (long_desc LIKE \"%juice%\"\n",
    "OR long_desc LIKE \"%sauce%\"\n",
    "OR long_desc LIKE \"%canned%\"\n",
    "OR long_desc LIKE \"%frozen%\"\n",
    "OR long_desc LIKE \"%peel%\"\n",
    "OR long_desc LIKE \"%cooked%\"\n",
    "OR long_desc LIKE \"%California%\"\n",
    "OR long_desc LIKE \"%Florida%\"\n",
    "OR long_desc LIKE \"%navels%\"\n",
    "OR id LIKE \"9111\"\n",
    ");\n",
    "\"\"\"\n",
    "\n",
    "query_fr = \"\"\" \n",
    "SELECT * FROM fruits_raw\n",
    "WHERE food_group_id = 900\n",
    "AND NOT (long_desc LIKE \"%juice%\"\n",
    "OR long_desc LIKE \"%sauce%\"\n",
    "OR long_desc LIKE \"%canned%\"\n",
    "OR long_desc LIKE \"%frozen%\"\n",
    "OR long_desc LIKE \"%dried%\"\n",
    "OR long_desc LIKE \"%dehydrated%\"\n",
    "OR long_desc LIKE \"%peel%\"\n",
    "OR long_desc LIKE \"%cooked%\"\n",
    "OR long_desc LIKE \"%California%\"\n",
    "OR long_desc LIKE \"%Florida%\"\n",
    "OR long_desc LIKE \"%navels%\"\n",
    "OR id LIKE \"9111\"\n",
    ");\n",
    "\"\"\"\n",
    "\n",
    "database_url = 'sqlite:///C:/Users/Vartotojas/Desktop/programavimas/baigiamasis_darbas/db/db.sqlite3'\n",
    "\n",
    "engine = create_engine(database_url)\n",
    "\n",
    "with engine.connect() as conn:\n",
    "     df_v_fr = pd.read_sql_query(query_fr, engine)\n",
    "     df_v_vc = pd.read_sql_query(query_vc, engine)\n",
    "     df_v_fd = pd.read_sql_query(query_fd, engine)\n",
    "     df_v_vr = pd.read_sql_query(query_vr, engine)\n"
   ]
  },
  {
   "cell_type": "code",
   "execution_count": 41,
   "id": "c98f42d8-514b-447a-b1d2-f3cd8f74e693",
   "metadata": {},
   "outputs": [
    {
     "data": {
      "text/plain": [
       "<Figure size 600x300 with 0 Axes>"
      ]
     },
     "metadata": {},
     "output_type": "display_data"
    },
    {
     "data": {
      "image/png": "[encoded data removed]",
      "text/plain": [
       "<Figure size 1000x600 with 1 Axes>"
      ]
     },
     "metadata": {},
     "output_type": "display_data"
    }
   ],
   "source": [
    "# Let's see how Vitamin C content distributes between 100kcal of products:\n",
    "\n",
    "data = [df_v_vc['vitamin_c_in_mg'], df_v_vr['vitamin_c_in_mg'], df_v_fr['vitamin_c_in_mg'], df_v_fd['vitamin_c_in_mg']]\n",
    " \n",
    "fig = plt.figure(figsize =(6, 3))\n",
    " \n",
    "# Creating axes instance\n",
    "labels = ['Veg Cooked', 'Veg Raw', 'Fruit Raw', 'Fruit Dried']\n",
    "fig, ax = plt.subplots(figsize=(10, 6))\n",
    "plt.ylabel('Vitamin C (mg) in 100 g of food item')\n",
    "\n",
    "# Creating plot\n",
    "bp = ax.boxplot(data, labels=labels)\n",
    " \n",
    "# show plot\n",
    "plt.show()"
   ]
  },
  {
   "cell_type": "code",
   "execution_count": 42,
   "id": "7b9e5b9a-a65f-4bc6-b311-7076993bbd3b",
   "metadata": {},
   "outputs": [
    {
     "name": "stdout",
     "output_type": "stream",
     "text": [
      "                                   long_desc  vitamin_c_in_mg\n",
      "21                       Guavas, common, raw            228.3\n",
      "56            Kiwifruit, ZESPRI SunGold, raw            161.3\n",
      "23                     Kiwifruit, green, raw             92.7\n",
      "26                              Litchis, raw             71.5\n",
      "35                              Papayas, raw             60.9\n",
      "49                         Strawberries, raw             58.8\n",
      "55       Pineapple, raw, extra sweet variety             56.4\n",
      "33    Oranges, raw, all commercial varieties             53.2\n",
      "40             Pineapple, raw, all varieties             47.8\n",
      "24                             Kumquats, raw             43.9\n",
      "13              Currants, red and white, raw             41.0\n",
      "28                   Melons, cantaloupe, raw             36.7\n",
      "27                               Mangos, raw             36.4\n",
      "31                           Mulberries, raw             36.4\n",
      "8                Carambola, (starfruit), raw             34.4\n",
      "18         Grapefruit, raw, white, all areas             33.3\n",
      "52                               Feijoa, raw             32.9\n",
      "17  Grapefruit, raw, pink and red, all areas             31.2\n",
      "36  Passion-fruit, (granadilla), purple, raw             30.0\n",
      "25                                Limes, raw             29.1\n",
      "7                            Breadfruit, raw             29.0\n",
      "16                         Gooseberries, raw             27.7\n",
      "34       Tangerines, (mandarin oranges), raw             26.7\n",
      "46                          Raspberries, raw             26.2\n",
      "29                       Melons, casaba, raw             21.8\n",
      "5                          Blackberries, raw             21.0\n",
      "48                              Soursop, raw             20.6\n",
      "41                            Plantains, raw             18.4\n",
      "30                     Melons, honeydew, raw             18.0\n",
      "12                          Cranberries, raw             14.0\n"
     ]
    }
   ],
   "source": [
    "# Top Vitamin C in fruits in 100g\n",
    "\n",
    "top = df_v_fr[['long_desc', 'vitamin_c_in_mg']].sort_values(by=\"vitamin_c_in_mg\",ascending=False)\n",
    "top_30_values = top.head(30)\n",
    "print(top_30_values)"
   ]
  },
  {
   "cell_type": "code",
   "execution_count": 43,
   "id": "0f5b70f9-51da-465a-9cad-0985531d6ef3",
   "metadata": {},
   "outputs": [
    {
     "name": "stdout",
     "output_type": "stream",
     "text": [
      "                                   long_desc  vitamin_c_in_mg_100kcal\n",
      "21                       Guavas, common, raw               335.735294\n",
      "56            Kiwifruit, ZESPRI SunGold, raw               256.031746\n",
      "49                         Strawberries, raw               183.750000\n",
      "23                     Kiwifruit, green, raw               151.967213\n",
      "35                              Papayas, raw               141.627907\n",
      "33    Oranges, raw, all commercial varieties               113.191489\n",
      "8                Carambola, (starfruit), raw               110.967742\n",
      "55       Pineapple, raw, extra sweet variety               110.588235\n",
      "26                              Litchis, raw               108.333333\n",
      "28                   Melons, cantaloupe, raw               107.941176\n",
      "18         Grapefruit, raw, white, all areas               100.909091\n",
      "25                                Limes, raw                97.000000\n",
      "40             Pineapple, raw, all varieties                95.600000\n",
      "31                           Mulberries, raw                84.651163\n",
      "29                       Melons, casaba, raw                77.857143\n",
      "17  Grapefruit, raw, pink and red, all areas                74.285714\n",
      "13              Currants, red and white, raw                73.214286\n",
      "16                         Gooseberries, raw                62.954545\n",
      "24                             Kumquats, raw                61.830986\n",
      "27                               Mangos, raw                60.666667\n",
      "52                               Feijoa, raw                53.934426\n",
      "46                          Raspberries, raw                50.384615\n",
      "34       Tangerines, (mandarin oranges), raw                50.377358\n",
      "30                     Melons, honeydew, raw                50.000000\n",
      "5                          Blackberries, raw                48.837209\n",
      "47                              Rhubarb, raw                38.095238\n",
      "48                              Soursop, raw                31.212121\n",
      "36  Passion-fruit, (granadilla), purple, raw                30.927835\n",
      "12                          Cranberries, raw                30.434783\n",
      "7                            Breadfruit, raw                28.155340\n"
     ]
    }
   ],
   "source": [
    "# Top Vitamin C in 100kcal of fruits\n",
    "\n",
    "top = df_v_fr[['long_desc', 'vitamin_c_in_mg_100kcal']].sort_values(by='vitamin_c_in_mg_100kcal',ascending=False)\n",
    "top_30_values = top.head(30)\n",
    "print(top_30_values)\n"
   ]
  },
  {
   "cell_type": "code",
   "execution_count": 44,
   "id": "65ce269a-b21b-4943-92cc-dc8ce31f73bf",
   "metadata": {},
   "outputs": [
    {
     "data": {
      "text/plain": [
       "<Figure size 600x300 with 0 Axes>"
      ]
     },
     "metadata": {},
     "output_type": "display_data"
    },
    {
     "data": {
      "image/png": "[encoded data removed]",
      "text/plain": [
       "<Figure size 1000x600 with 1 Axes>"
      ]
     },
     "metadata": {},
     "output_type": "display_data"
    }
   ],
   "source": [
    "# Let's see how vitamin C content distributes between 100kcal of products:\n",
    "\n",
    "data = [df_v_vr['vitamin_c_in_mg_100kcal'], df_v_fr['vitamin_c_in_mg_100kcal']]\n",
    " \n",
    "fig = plt.figure(figsize =(6, 3))\n",
    " \n",
    "# Creating axes instance\n",
    "labels = ['Veg Raw', 'Fruit Raw']\n",
    "fig, ax = plt.subplots(figsize=(10, 6))\n",
    "plt.ylabel('Vitamin C (mg) in 100 kcal of food item')\n",
    " \n",
    "# Creating plot\n",
    "bp = ax.boxplot(data, labels=labels)\n",
    " \n",
    "# show plot\n",
    "plt.show()"
   ]
  },
  {
   "cell_type": "code",
   "execution_count": 45,
   "id": "25839983",
   "metadata": {},
   "outputs": [
    {
     "name": "stdout",
     "output_type": "stream",
     "text": [
      "                           long_desc  vitamin_c_in_mg\n",
      "77    Peppers, hot chili, green, raw            242.5\n",
      "79      Peppers, hot chili, red, raw            143.7\n",
      "80          Peppers, sweet, red, raw            127.7\n",
      "32                         Kale, raw            120.0\n",
      "90            Peppers, jalapeno, raw            118.6\n",
      "91           Peppers, hungarian, raw             92.9\n",
      "5                      Broccoli, raw             89.2\n",
      "87           Cauliflower, green, raw             88.1\n",
      "7              Brussels sprouts, raw             85.0\n",
      "88               Pepper, banana, raw             82.7\n",
      "44        Peppers, sweet, green, raw             80.4\n",
      "24                Cress, garden, raw             69.0\n",
      "33                     Kohlrabi, raw             62.0\n",
      "21                       Chives, raw             58.1\n",
      "10                 Cabbage, red, raw             57.0\n",
      "16                  Cauliflower, raw             48.2\n",
      "12  Cabbage, chinese (pak-choi), raw             45.0\n",
      "89             Peppers, serrano, raw             44.9\n",
      "70                   Watercress, raw             43.0\n",
      "56               Seaweed, laver, raw             39.0\n",
      "9                       Cabbage, raw             36.6\n",
      "22                     Collards, raw             35.3\n",
      "29                       Garlic, raw             31.2\n",
      "11               Cabbage, savoy, raw             31.0\n",
      "19                 Chard, swiss, raw             30.0\n",
      "92            Broccoli, chinese, raw             29.6\n",
      "57                      Spinach, raw             28.1\n",
      "13   Cabbage, chinese (pe-tsai), raw             27.0\n",
      "52                    Rutabagas, raw             25.0\n",
      "66              Tomatoes, green, raw             23.4\n"
     ]
    }
   ],
   "source": [
    "# But what about vegetables?\n",
    "\n",
    "top = df_v_vr[['long_desc', 'vitamin_c_in_mg']].sort_values(by=\"vitamin_c_in_mg\",ascending=False)\n",
    "top_30_values = top.head(30)\n",
    "print(top_30_values)\n",
    "\n"
   ]
  },
  {
   "cell_type": "markdown",
   "id": "b0387c74",
   "metadata": {},
   "source": []
  },
  {
   "cell_type": "code",
   "execution_count": 46,
   "id": "9ade82f5",
   "metadata": {},
   "outputs": [
    {
     "name": "stdout",
     "output_type": "stream",
     "text": [
      "                                       long_desc  vitamin_c_in_mg_100kcal\n",
      "77                Peppers, hot chili, green, raw               606.250000\n",
      "80                      Peppers, sweet, red, raw               411.935484\n",
      "90                        Peppers, jalapeno, raw               408.965517\n",
      "44                    Peppers, sweet, green, raw               402.000000\n",
      "70                               Watercress, raw               390.909091\n",
      "79                  Peppers, hot chili, red, raw               359.250000\n",
      "12              Cabbage, chinese (pak-choi), raw               346.153846\n",
      "91                       Peppers, hungarian, raw               320.344828\n",
      "88                           Pepper, banana, raw               306.296296\n",
      "87                       Cauliflower, green, raw               284.193548\n",
      "5                                  Broccoli, raw               262.352941\n",
      "32                                     Kale, raw               244.897959\n",
      "33                                 Kohlrabi, raw               229.629630\n",
      "24                            Cress, garden, raw               215.625000\n",
      "7                          Brussels sprouts, raw               197.674419\n",
      "21                                   Chives, raw               193.666667\n",
      "16                              Cauliflower, raw               192.800000\n",
      "10                             Cabbage, red, raw               183.870968\n",
      "13               Cabbage, chinese (pe-tsai), raw               168.750000\n",
      "19                             Chard, swiss, raw               157.894737\n",
      "9                                   Cabbage, raw               146.400000\n",
      "89                         Peppers, serrano, raw               140.312500\n",
      "51                       Radishes, oriental, raw               122.222222\n",
      "57                                  Spinach, raw               122.173913\n",
      "11                           Cabbage, savoy, raw               114.814815\n",
      "56                           Seaweed, laver, raw               111.428571\n",
      "22                                 Collards, raw               110.312500\n",
      "73            Squash, summer, all varieties, raw               106.250000\n",
      "60  Squash, summer, zucchini, includes skin, raw               105.294118\n",
      "66                          Tomatoes, green, raw               101.739130\n"
     ]
    }
   ],
   "source": [
    "top = df_v_vr[['long_desc', 'vitamin_c_in_mg_100kcal']].sort_values(by='vitamin_c_in_mg_100kcal',ascending=False)\n",
    "top_30_values = top.head(30)\n",
    "print(top_30_values)"
   ]
  }
 ],
 "metadata": {
  "kernelspec": {
   "display_name": "Python 3 (ipykernel)",
   "language": "python",
   "name": "python3"
  },
  "language_info": {
   "codemirror_mode": {
    "name": "ipython",
    "version": 3
   },
   "file_extension": ".py",
   "mimetype": "text/x-python",
   "name": "python",
   "nbconvert_exporter": "python",
   "pygments_lexer": "ipython3",
   "version": "3.11.4"
  }
 },
 "nbformat": 4,
 "nbformat_minor": 5
}
