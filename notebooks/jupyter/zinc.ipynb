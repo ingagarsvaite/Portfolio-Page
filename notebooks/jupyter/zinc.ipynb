{
 "cells": [
  {
   "cell_type": "code",
   "execution_count": 8,
   "id": "9d18adca-446c-476a-a9f2-9ca9910d12d8",
   "metadata": {},
   "outputs": [],
   "source": [
    "# Okay, here we will dive deeper into zinc. "
   ]
  },
  {
   "cell_type": "code",
   "execution_count": 9,
   "id": "5b32f98b-20a1-41b7-8955-c21385d2d48b",
   "metadata": {},
   "outputs": [],
   "source": [
    "import pandas as pd\n",
    "import numpy as np\n",
    "import matplotlib.pyplot as plt\n",
    "import seaborn as sns\n",
    "from sqlalchemy import create_engine\n",
    "import os"
   ]
  },
  {
   "cell_type": "code",
   "execution_count": 10,
   "id": "8c5927ad-5c8c-45d8-b80c-d014e62f70c9",
   "metadata": {},
   "outputs": [],
   "source": [
    "query_vc = \"\"\" \n",
    "SELECT * FROM vegetables\n",
    "WHERE food_group_id = 1100\n",
    "AND long_desc LIKE '%cook%'\n",
    "AND NOT(long_desc LIKE \"%beans%\"\n",
    "     OR long_desc LIKE \"%peas%\"\n",
    "     OR long_desc LIKE \"%lentils%\"\n",
    "     OR long_desc LIKE \"%leaves%\"\n",
    "\t OR long_desc LIKE \"%greens%\"\n",
    "\t OR long_desc LIKE \"%mushroom%\"\n",
    "  \t OR long_desc LIKE \"%frozen%\"\n",
    " \t OR long_desc LIKE \"%with salt%\");\n",
    "\"\"\"\n",
    "\n",
    "\n",
    "query_vr = \"\"\" \n",
    "SELECT * FROM vegetables\n",
    "WHERE food_group_id = 1100\n",
    "AND long_desc LIKE '%raw%'\n",
    "AND NOT(long_desc LIKE \"%beans%\"\n",
    "     OR long_desc LIKE \"%peas%\"\n",
    "     OR long_desc LIKE \"%lentils%\"\n",
    "     OR long_desc LIKE \"%leaves%\"\n",
    "\t OR long_desc LIKE \"%greens%\"\n",
    "\t OR long_desc LIKE \"%mushroom%\"\n",
    "      );\n",
    "\"\"\"\n",
    "\n",
    "query_fd = \"\"\" \n",
    "SELECT * FROM fruits_dried\n",
    "WHERE food_group_id = 900\n",
    "AND (long_desc LIKE \"%dried%\"\n",
    "OR long_desc LIKE \"%dehydrated%\")\n",
    "AND NOT (long_desc LIKE \"%juice%\"\n",
    "OR long_desc LIKE \"%sauce%\"\n",
    "OR long_desc LIKE \"%canned%\"\n",
    "OR long_desc LIKE \"%frozen%\"\n",
    "OR long_desc LIKE \"%peel%\"\n",
    "OR long_desc LIKE \"%cooked%\"\n",
    "OR long_desc LIKE \"%California%\"\n",
    "OR long_desc LIKE \"%Florida%\"\n",
    "OR long_desc LIKE \"%navels%\"\n",
    "OR id LIKE \"9111\"\n",
    ");\n",
    "\"\"\"\n",
    "\n",
    "query_fr = \"\"\" \n",
    "SELECT * FROM fruits_raw\n",
    "WHERE food_group_id = 900\n",
    "AND NOT (long_desc LIKE \"%juice%\"\n",
    "OR long_desc LIKE \"%sauce%\"\n",
    "OR long_desc LIKE \"%canned%\"\n",
    "OR long_desc LIKE \"%frozen%\"\n",
    "OR long_desc LIKE \"%dried%\"\n",
    "OR long_desc LIKE \"%dehydrated%\"\n",
    "OR long_desc LIKE \"%peel%\"\n",
    "OR long_desc LIKE \"%cooked%\"\n",
    "OR long_desc LIKE \"%California%\"\n",
    "OR long_desc LIKE \"%Florida%\"\n",
    "OR long_desc LIKE \"%navels%\"\n",
    "OR id LIKE \"9111\"\n",
    ");\n",
    "\"\"\"\n",
    "\n",
    "database_url = 'sqlite:///C:/Users/Vartotojas/Desktop/programavimas/baigiamasis_darbas/db/db.sqlite3'\n",
    "\n",
    "engine = create_engine(database_url)\n",
    "\n",
    "with engine.connect() as conn:\n",
    "     df_v_fr = pd.read_sql_query(query_fr, engine)\n",
    "     df_v_vc = pd.read_sql_query(query_vc, engine)\n",
    "     df_v_fd = pd.read_sql_query(query_fd, engine)\n",
    "     df_v_vr = pd.read_sql_query(query_vr, engine)\n"
   ]
  },
  {
   "cell_type": "code",
   "execution_count": 11,
   "id": "c98f42d8-514b-447a-b1d2-f3cd8f74e693",
   "metadata": {},
   "outputs": [
    {
     "data": {
      "text/plain": [
       "<Figure size 600x300 with 0 Axes>"
      ]
     },
     "metadata": {},
     "output_type": "display_data"
    },
    {
     "data": {
      "image/png": "[encoded data removed]",
      "text/plain": [
       "<Figure size 1000x600 with 1 Axes>"
      ]
     },
     "metadata": {},
     "output_type": "display_data"
    }
   ],
   "source": [
    "# Let's see how zinc content distributes between different food groups\n",
    "\n",
    "\n",
    "data = [df_v_vc['zn_in_mg'], df_v_vr['zn_in_mg'], df_v_fr['zn_in_mg'], df_v_fd['zn_in_mg']]\n",
    " \n",
    "fig = plt.figure(figsize =(6, 3))\n",
    " \n",
    "# Creating axes instance\n",
    "labels = ['Veg Cooked', 'Veg Raw', 'Fruit Raw', 'Fruit Dried']\n",
    "fig, ax = plt.subplots(figsize=(10, 6))\n",
    "plt.ylabel('Zinc (mg) in 100 g of food item')\n",
    " \n",
    "# Creating plot\n",
    "bp = ax.boxplot(data, labels=labels)\n",
    " \n",
    "# show plot\n",
    "plt.show()"
   ]
  },
  {
   "cell_type": "code",
   "execution_count": 12,
   "id": "7b9e5b9a-a65f-4bc6-b311-7076993bbd3b",
   "metadata": {},
   "outputs": [
    {
     "name": "stdout",
     "output_type": "stream",
     "text": [
      "                                            long_desc  zn_in_mg\n",
      "93                                Hearts of palm, raw      3.73\n",
      "54                            Seaweed, irishmoss, raw      1.95\n",
      "55                                 Seaweed, kelp, raw      1.23\n",
      "29                                        Garlic, raw      1.16\n",
      "3                                  Bamboo shoots, raw      1.10\n",
      "56                                Seaweed, laver, raw      1.05\n",
      "0                        Alfalfa seeds, sprouted, raw      0.92\n",
      "28                                        Endive, raw      0.79\n",
      "6                                  Broccoli raab, raw      0.77\n",
      "20                                Chayote, fruit, raw      0.74\n",
      "87                            Cauliflower, green, raw      0.64\n",
      "82                                     Radicchio, raw      0.62\n",
      "43                                      Parsnips, raw      0.59\n",
      "53                                 Seaweed, agar, raw      0.58\n",
      "40                                          Okra, raw      0.58\n",
      "32                                          Kale, raw      0.56\n",
      "21                                        Chives, raw      0.56\n",
      "2                                      Asparagus, raw      0.54\n",
      "57                                       Spinach, raw      0.53\n",
      "69              Waterchestnuts, chinese, (matai), raw      0.50\n",
      "1                  Artichokes, (globe or french), raw      0.49\n",
      "85                                       Arugula, raw      0.47\n",
      "23                           Corn, sweet, yellow, raw      0.46\n",
      "81                            Corn, sweet, white, raw      0.45\n",
      "7                               Brussels sprouts, raw      0.42\n",
      "92                             Broccoli, chinese, raw      0.41\n",
      "5                                       Broccoli, raw      0.41\n",
      "78                                      Shallots, raw      0.40\n",
      "42  Onions, spring or scallions (includes tops and...      0.39\n",
      "76                               Seaweed, wakame, raw      0.38\n"
     ]
    }
   ],
   "source": [
    "# Top raw vegetables in 100g:\n",
    "\n",
    "top = df_v_vr[['long_desc', 'zn_in_mg']].sort_values(by=\"zn_in_mg\",ascending=False)\n",
    "top_30_values = top.head(30)\n",
    "print(top_30_values)"
   ]
  },
  {
   "cell_type": "code",
   "execution_count": 13,
   "id": "0f5b70f9-51da-465a-9cad-0985531d6ef3",
   "metadata": {},
   "outputs": [
    {
     "name": "stdout",
     "output_type": "stream",
     "text": [
      "                                            long_desc  zn_mg_in_100kcal\n",
      "28                                        Endive, raw          4.647059\n",
      "3                                  Bamboo shoots, raw          4.074074\n",
      "0                        Alfalfa seeds, sprouted, raw          4.000000\n",
      "54                            Seaweed, irishmoss, raw          3.979592\n",
      "20                                Chayote, fruit, raw          3.894737\n",
      "6                                  Broccoli raab, raw          3.500000\n",
      "93                                Hearts of palm, raw          3.243478\n",
      "56                                Seaweed, laver, raw          3.000000\n",
      "55                                 Seaweed, kelp, raw          2.860465\n",
      "2                                      Asparagus, raw          2.700000\n",
      "82                                     Radicchio, raw          2.695652\n",
      "57                                       Spinach, raw          2.304348\n",
      "53                                 Seaweed, agar, raw          2.230769\n",
      "87                            Cauliflower, green, raw          2.064516\n",
      "19                                  Chard, swiss, raw          1.894737\n",
      "60       Squash, summer, zucchini, includes skin, raw          1.882353\n",
      "85                                       Arugula, raw          1.880000\n",
      "21                                        Chives, raw          1.866667\n",
      "73                 Squash, summer, all varieties, raw          1.812500\n",
      "40                                          Okra, raw          1.757576\n",
      "50                                      Radishes, raw          1.750000\n",
      "59                       Squash, summer, scallop, raw          1.611111\n",
      "86                                       Nopales, raw          1.562500\n",
      "35  Lettuce, butterhead (includes boston and bibb ...          1.538462\n",
      "58    Squash, summer, crookneck and straightneck, raw          1.526316\n",
      "12                   Cabbage, chinese (pak-choi), raw          1.461538\n",
      "13                    Cabbage, chinese (pe-tsai), raw          1.437500\n",
      "26                              Cucumber, peeled, raw          1.416667\n",
      "92                             Broccoli, chinese, raw          1.366667\n",
      "36                       Lettuce, cos or romaine, raw          1.352941\n"
     ]
    }
   ],
   "source": [
    "# Top raw vegetables in 100kcal:\n",
    "\n",
    "top = df_v_vr[['long_desc', 'zn_mg_in_100kcal']].sort_values(by='zn_mg_in_100kcal',ascending=False)\n",
    "top_30_values = top.head(30)\n",
    "print(top_30_values)"
   ]
  },
  {
   "cell_type": "code",
   "execution_count": 14,
   "id": "65ce269a-b21b-4943-92cc-dc8ce31f73bf",
   "metadata": {},
   "outputs": [
    {
     "data": {
      "text/plain": [
       "<Figure size 600x300 with 0 Axes>"
      ]
     },
     "metadata": {},
     "output_type": "display_data"
    },
    {
     "data": {
      "image/png": "[encoded data removed]",
      "text/plain": [
       "<Figure size 1000x600 with 1 Axes>"
      ]
     },
     "metadata": {},
     "output_type": "display_data"
    }
   ],
   "source": [
    "# Let's see how zinc content distributes between 100kcal of products:\n",
    "\n",
    "data = [df_v_vr['zn_mg_in_100kcal'], df_v_fr['zn_mg_in_100kcal']]\n",
    " \n",
    "fig = plt.figure(figsize =(6, 3))\n",
    " \n",
    "# Creating axes instance\n",
    "labels = ['Veg Raw', 'Fruit Raw']\n",
    "fig, ax = plt.subplots(figsize=(10, 6))\n",
    "plt.ylabel('Vitamin A (mcg) in 100 kcal of food item')\n",
    " \n",
    "# Creating plot\n",
    "bp = ax.boxplot(data, labels=labels)\n",
    " \n",
    "# show plot\n",
    "plt.show()"
   ]
  }
 ],
 "metadata": {
  "kernelspec": {
   "display_name": "Python 3 (ipykernel)",
   "language": "python",
   "name": "python3"
  },
  "language_info": {
   "codemirror_mode": {
    "name": "ipython",
    "version": 3
   },
   "file_extension": ".py",
   "mimetype": "text/x-python",
   "name": "python",
   "nbconvert_exporter": "python",
   "pygments_lexer": "ipython3",
   "version": "3.11.4"
  }
 },
 "nbformat": 4,
 "nbformat_minor": 5
}
